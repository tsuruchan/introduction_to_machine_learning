{
 "cells": [
  {
   "cell_type": "markdown",
   "metadata": {
    "deletable": true,
    "editable": true
   },
   "source": [
    "Machine Leaning Course vol.1 \n",
    "# 機械学習とは？\n"
   ]
  },
  {
   "cell_type": "markdown",
   "metadata": {
    "deletable": true,
    "editable": true
   },
   "source": [
    "機械学習（machine learning）とは、簡単に言うと __「機械（コンピューター）にたくさんのデータを読み込ませ、解析することでデータの中にあるパターンを学習させること」__ "
   ]
  },
  {
   "cell_type": "markdown",
   "metadata": {
    "deletable": true,
    "editable": true
   },
   "source": [
    "## どういうことができるの？\n",
    "![](https://s3.amazonaws.com/ai-standard/pic1.png)\n",
    "イメージがつきやすい例をあげると、↑の画像が与えられたときに、それが何の画像なのかを判別するものです。\n",
    "\n",
    "その他に例をあげると...\n",
    "- 物の識別\n",
    "- 顔認識\n",
    "- 商品のレコメンド\n",
    "- 囲碁のAlphaGo\n",
    "\n",
    "ビジネスに関係する例でいうと...\n",
    "- LTV予測 \n",
    "- ターゲット分析\n",
    "- 需要予測\n",
    "\n",
    "以下のサイトにたくさん機械学習の応用例がのっています。\n",
    "\n",
    "https://www.kaggle.com/wiki/DataScienceUseCases\n",
    "\n",
    "\n",
    "では、どのような仕組みでデータから学習するのでしょうか？"
   ]
  },
  {
   "cell_type": "markdown",
   "metadata": {
    "collapsed": true,
    "deletable": true,
    "editable": true
   },
   "source": [
    "## 機械学習の種類\n",
    "### 教師あり学習\n",
    "教師あり学習は、ラベル付けされたデータからパターンを学習し、未知のデータや将来のデータを予想できるようにすることです。\n",
    "![](https://s3.amazonaws.com/ai-standard/pic1-1.png)\n",
    "\n",
    "教師あり学習には２つの種類があります。\n",
    "あやめのデータセットでは、予測するものが「ラベル」です。\n",
    "このように、「ラベル」を学習することを __分類__ と呼びます。\n",
    "\n",
    "そして、「ラベル」ではなくて、「数値（連続値）」を予想することを、 __回帰__ と呼びます。\n",
    "\n",
    "回帰は、目的変数をX、説明変数をYとして、データにフィットする直線を探します。\n",
    "\n",
    "![](https://s3.amazonaws.com/ai-standard/pic1-2.png)"
   ]
  },
  {
   "cell_type": "markdown",
   "metadata": {
    "deletable": true,
    "editable": true
   },
   "source": [
    "### 教師なし学習\n",
    "#### クラスタリング\n",
    "クラスタリングは、大量のデータを意味のあるクラスタ（グループ）に分割します。\n",
    "この手法では、データのラベルが事前に分かっている必要はありません。\n",
    "このような方法でクラスタを定義することから、クラスタリングは「教師なし学習」と呼ばれています。\n",
    "\n",
    "\n",
    "![](https://s3.amazonaws.com/ai-standard/pic1-3.png)"
   ]
  },
  {
   "cell_type": "markdown",
   "metadata": {
    "deletable": true,
    "editable": true
   },
   "source": [
    "## 機械学習のロードマップ\n",
    "\n",
    "機械学習を使用するための、一般的なワークフローの説明をします。\n",
    "\n",
    "![](https://s3.amazonaws.com/ai-standard/pic1-4.png)"
   ]
  },
  {
   "cell_type": "markdown",
   "metadata": {
    "deletable": true,
    "editable": true
   },
   "source": [
    "### データの理解・前処理\n",
    "生のデータ（なにも加工をしていないデータ、ログなど）は機械学習に適した形式になっていない事がほとんどです。\n",
    "機械学習を適応する為には、データを理解し、最適な形に処理をしなければいけません。\n",
    "この処理を「データの前処理」と呼びます。\n",
    "\n",
    "主にやることは、以下のフローです。\n",
    "- データの理解\n",
    "- データの前処理\n",
    "- テストデータとトレーニングデータの分割\n",
    "\n",
    "### 学習\n",
    "このコースでは、様々な機械学習アルゴリズムを紹介します。それらのアルゴリズムには、それぞれ得意・不得意があります。\n",
    "そのため、特定の問題に適した分類アルゴリズムを選択するには、練習と経験が必要になるのでどんどん実践していくことが、習得への近道です。\n",
    "\n",
    "主にやることは、以下のフローです。\n",
    "- モデルの選択\n",
    "- 指標の設定（主に正答率）\n",
    "- モデル学習\n",
    "- パラメータ調整\n",
    "\n",
    "### 評価\n",
    "モデル学習が終わったら、その性能を評価するフェーズに入ります。\n",
    "精度と汎化性能（未知のデータにも対応できる能力）を調整していきます。"
   ]
  }
 ],
 "metadata": {
  "kernelspec": {
   "display_name": "Python 3",
   "language": "python",
   "name": "python3"
  },
  "language_info": {
   "codemirror_mode": {
    "name": "ipython",
    "version": 3
   },
   "file_extension": ".py",
   "mimetype": "text/x-python",
   "name": "python",
   "nbconvert_exporter": "python",
   "pygments_lexer": "ipython3",
   "version": "3.5.0"
  }
 },
 "nbformat": 4,
 "nbformat_minor": 2
}
