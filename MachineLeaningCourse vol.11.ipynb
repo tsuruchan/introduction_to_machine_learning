{
 "cells": [
  {
   "cell_type": "markdown",
   "metadata": {
    "deletable": true,
    "editable": true
   },
   "source": [
    "MachineLeaningCourse vol.11\n",
    "# 決定木・ランダムフォレスト"
   ]
  },
  {
   "cell_type": "markdown",
   "metadata": {
    "deletable": true,
    "editable": true
   },
   "source": [
    "### 決定木\n",
    "決定木は教師あり分類アルゴリズムの一つです。木構造を利用した分類アルゴリズムです。\n",
    "\n",
    "大きな特徴として、__意味解釈性__が高いということがあげられます。意味解釈性とは、得られた結果の意味を解釈しやすいかどうか？を表すものです。\n",
    "\n",
    "では、決定木がどういうものなのか、図でイメージしやすいように勉強していきましょう。"
   ]
  },
  {
   "cell_type": "markdown",
   "metadata": {
    "deletable": true,
    "editable": true
   },
   "source": [
    "![](https://s3.amazonaws.com/ai-standard/pic11-1.png)"
   ]
  },
  {
   "cell_type": "markdown",
   "metadata": {
    "collapsed": true,
    "deletable": true,
    "editable": true
   },
   "source": [
    "決定木アルゴリズムを使用して、決定木のルートから初めて、情報利得（Information Gain：分割された集合の要素にたいしてのばらつきの減少）が最大となる特徴量でデータを分割する。\n",
    "\n",
    "リーフが純粋になる（分割されたデータのばらつきの減少がなくなる）まで、この分割を子ノードごとに繰り返すことができる。\n",
    "リーフが純粋になるというのは、各リーフのサンプルがすべて同じクラスになることを意味している。"
   ]
  },
  {
   "cell_type": "markdown",
   "metadata": {},
   "source": [
    "決定木の目的関数は、分割ごとに情報利得が最大となるように定式化して、以下の様に定義されます。\n",
    "\n",
    "$$IG(D_p, f) = I(D_p) - \\sum^{m}_{j=1}I(D_J)$$\n",
    "\n",
    "ここで、$f$は分割を行う特徴量であり、$D_p$は親のデータセット、$D_j$は$j$番目の子ノードのデータセットです。\n",
    "$I$は不純度を数値化したものであり、$N_p$は親ノードのサンプルの総数、$N_j$は$j$番目の子コードのサンプルの個数です。\n",
    "\n",
    "このように、情報利得は、__「親ノードの不純度」と「子ノードの不純度」の差__です。\n",
    "\n",
    "上記の式は、一般的にm個のノードを対象として情報利得を定式化しましたが、組み合わせ探索空間を減らすために、scikit-learnでは、二分決定木を実装しています。つまり、親ノードはそれぞれ２つの子ノード$D_{left}$と$D_{right}$に分かれます。\n",
    "\n",
    "$$IG(D_p, f) = I(D_p) - \\frac{N_{left}}{N_p}I(D_{left}) - \\frac{N_{right}}{N_p}I(D_{right})$$\n",
    "\n",
    "二分決定木でよく使われる不純度の指標として、__ジニ不純度__があげられる。\n",
    "\n",
    "$$I(t) = \\sum^{c}_{i=1}p(i \\ |\\  t)(1 - p(i \\ |\\  t))  = 1 - \\sum^{c}_{i=1}p(i \\ |\\  t)^2$$\n",
    "\n",
    "ここで、$p(i \\ |\\  t)$は、特定のノードｔにおいてクラスiに属するサンプルの割合を表します。cはクラス数です。今回は二値分類なのでc=2です。\n",
    "\n",
    "以上が、決定木の目的関数となります。"
   ]
  },
  {
   "cell_type": "code",
   "execution_count": 5,
   "metadata": {
    "collapsed": false
   },
   "outputs": [],
   "source": [
    "# Iris データのインポート\n",
    "import numpy as np\n",
    "from sklearn import datasets\n",
    "from sklearn.preprocessing import StandardScaler\n",
    "from sklearn.cross_validation import train_test_split\n",
    "\n",
    "iris = datasets.load_iris()\n",
    "X_train, X_test, y_train, y_test = train_test_split(iris.data[:,[2,3]], iris.target, test_size=0.3, random_state=0)\n",
    "\n",
    "scaler = StandardScaler()\n",
    "scaler.fit(X_train)\n",
    "\n",
    "X_train_std = scaler.transform(X_train)\n",
    "X_test_std =  scaler.transform(X_test)"
   ]
  },
  {
   "cell_type": "markdown",
   "metadata": {},
   "source": [
    "scikit-learnでのコードは以下のようになります。\n",
    "\n",
    "【ドキュメント】\n",
    "http://pythondatascience.plavox.info/scikit-learn/scikit-learn%E3%81%A7%E6%B1%BA%E5%AE%9A%E6%9C%A8%E5%88%86%E6%9E%90/"
   ]
  },
  {
   "cell_type": "code",
   "execution_count": 6,
   "metadata": {
    "collapsed": false
   },
   "outputs": [
    {
     "data": {
      "text/plain": [
       "DecisionTreeClassifier(class_weight=None, criterion='gini', max_depth=3,\n",
       "            max_features=None, max_leaf_nodes=None,\n",
       "            min_impurity_split=1e-07, min_samples_leaf=1,\n",
       "            min_samples_split=2, min_weight_fraction_leaf=0.0,\n",
       "            presort=False, random_state=0, splitter='best')"
      ]
     },
     "execution_count": 6,
     "metadata": {},
     "output_type": "execute_result"
    }
   ],
   "source": [
    "from sklearn.tree import DecisionTreeClassifier\n",
    "\n",
    "tree = DecisionTreeClassifier(max_depth=3, random_state=0)\n",
    "tree.fit(X_train, y_train)"
   ]
  },
  {
   "cell_type": "code",
   "execution_count": 8,
   "metadata": {
    "collapsed": true
   },
   "outputs": [],
   "source": [
    "# ２次元データの決定曲線をプロットする関数\n",
    "def plot_decision_regions(X, y, classifier, resolution=0.02):\n",
    "    from matplotlib.colors import ListedColormap\n",
    "    markers = (\"s\", \"x\", \"o\", \"^\", \"v\")\n",
    "    colors = (\"red\", \"blue\", \"lightgreen\", \"gray\", \"cyan\")\n",
    "    cmap = ListedColormap(colors[:len(np.unique(y))])\n",
    "    \n",
    "    x1_min, x1_max = X[:, 0].min()-1 , X[:, 0].max() +1\n",
    "    x2_min, x2_max = X[:, 1].min()-1 , X[:, 1].max() +1\n",
    "    \n",
    "    xx1, xx2 = np.meshgrid(np.arange(x1_min, x1_max, resolution), np.arange(x2_min, x2_max, resolution))\n",
    "    Z = classifier.predict(np.array([xx1.ravel(), xx2.ravel()]).T)\n",
    "    Z = Z.reshape(xx1.shape)\n",
    "    plt.contourf(xx1, xx2, Z, alpha=0.4, cmap=cmap)\n",
    "    \n",
    "    plt.xlim(xx1.min(), xx1.max())\n",
    "    plt.ylim(xx2.min(), xx2.max())\n",
    "    \n",
    "    for idx, cl in enumerate(np.unique(y)):\n",
    "        plt.scatter(x=X[y == cl, 0], y=X[y == cl, 1], alpha=0.8, c=cmap(idx),marker=markers[idx], label=cl)"
   ]
  },
  {
   "cell_type": "code",
   "execution_count": 14,
   "metadata": {
    "collapsed": false
   },
   "outputs": [
    {
     "data": {
      "image/png": "[encoded data removed]",
      "text/plain": [
       "<matplotlib.figure.Figure at 0x109af8198>"
      ]
     },
     "metadata": {},
     "output_type": "display_data"
    }
   ],
   "source": [
    "%matplotlib inline\n",
    "import matplotlib.pyplot as plt\n",
    "\n",
    "X_combined = np.vstack((X_train, X_test))\n",
    "y_combined = np.hstack((y_train, y_test))\n",
    "plot_decision_regions(X_combined, y_combined, classifier=tree)\n",
    "\n",
    "plt.xlabel('petal length [cm]')\n",
    "plt.ylabel('petal width [cm]')\n",
    "plt.legend(loc='upper left')\n",
    "plt.show()"
   ]
  },
  {
   "cell_type": "markdown",
   "metadata": {},
   "source": [
    "scikit-learnにはトレーニング後の決定木を.dotファイルとしてエクスポートできる機能があります。\n",
    "このファイルは、GraphVizプログラムを使って可視化できます。\n",
    "\n",
    "以下は、macのインストール方法です。"
   ]
  },
  {
   "cell_type": "markdown",
   "metadata": {},
   "source": [
    "> $ brew install graphviz"
   ]
  },
  {
   "cell_type": "code",
   "execution_count": 15,
   "metadata": {
    "collapsed": true
   },
   "outputs": [],
   "source": [
    "from sklearn.tree import export_graphviz\n",
    "\n",
    "# .dotファイルをエクスポート\n",
    "export_graphviz(tree, out_file='tree.dot', feature_names=['petal length', 'petal width'])"
   ]
  },
  {
   "cell_type": "markdown",
   "metadata": {},
   "source": [
    "ターミナルで以下を実行\n",
    "> dot -Tpng tree.dot -o tree.png"
   ]
  },
  {
   "cell_type": "markdown",
   "metadata": {},
   "source": [
    "![](https://s3.amazonaws.com/ai-standard/pic11-2.png)"
   ]
  },
  {
   "cell_type": "markdown",
   "metadata": {},
   "source": [
    "GraphVizで作成した決定木の図をみると、どのようにクラス判定を行っているかが正確に読み取ることができます。\n",
    "\n",
    "このように、クラス判定のロジックを説明しやすいので、ビジネスの現場では、決定木がしばしば使われます。\n",
    "\n",
    "ついでに、最適なパラメータも計算しておきましょう。"
   ]
  },
  {
   "cell_type": "code",
   "execution_count": 21,
   "metadata": {
    "collapsed": false
   },
   "outputs": [
    {
     "name": "stdout",
     "output_type": "stream",
     "text": [
      "{'max_depth': [2, 3, 4, 5, 6, 7], 'min_samples_leaf': [1, 2, 3, 4, 5, 6]}\n"
     ]
    },
    {
     "data": {
      "text/plain": [
       "GridSearchCV(cv=5, error_score='raise',\n",
       "       estimator=DecisionTreeClassifier(class_weight=None, criterion='gini', max_depth=None,\n",
       "            max_features=None, max_leaf_nodes=None,\n",
       "            min_impurity_split=1e-07, min_samples_leaf=1,\n",
       "            min_samples_split=2, min_weight_fraction_leaf=0.0,\n",
       "            presort=False, random_state=0, splitter='best'),\n",
       "       fit_params={}, iid=True, n_jobs=1,\n",
       "       param_grid={'max_depth': [2, 3, 4, 5, 6, 7], 'min_samples_leaf': [1, 2, 3, 4, 5, 6]},\n",
       "       pre_dispatch='2*n_jobs', refit=True, scoring='f1_micro', verbose=0)"
      ]
     },
     "execution_count": 21,
     "metadata": {},
     "output_type": "execute_result"
    }
   ],
   "source": [
    "from sklearn.grid_search import GridSearchCV\n",
    "\n",
    "# ハイパーパラメータの設定\n",
    "param = {'min_samples_leaf': [i for i in range(1, 7)],\n",
    "                 'max_depth':  [i for i in range(2, 8)]}\n",
    "print(param)\n",
    "\n",
    "tree_clf = GridSearchCV(DecisionTreeClassifier(random_state=0), param, cv=5, scoring='f1_micro')\n",
    "tree_clf.fit(X_train_std, y_train)"
   ]
  },
  {
   "cell_type": "code",
   "execution_count": 22,
   "metadata": {
    "collapsed": true
   },
   "outputs": [],
   "source": [
    "def print_param_table(clf, X_test, y_test, score):\n",
    "    from sklearn.metrics import classification_report\n",
    "    print(\"#　スコアリング: {}\\n\".format(score))\n",
    "    print(\"# ベストモデル:\\n\\n{}\\n\".format(clf.best_estimator_))\n",
    "    print(\"# ベストパラメータ:\\n\\n{}\\n\".format(clf.best_params_))\n",
    "    print(\"# トレーニングデータでCVした時の平均スコア:\\n\")\n",
    "    for params, mean_score, scores in clf.grid_scores_:\n",
    "        print(\"{:.3f} (+/- {:.5f}) for {}\".format(mean_score, scores.std() * 2, params))\n",
    "    print(\"\\n# テストデータでの識別結果:\\n\")\n",
    "    y_true, y_pred = y_test, clf.predict(X_test)\n",
    "    print(classification_report(y_true, y_pred))"
   ]
  },
  {
   "cell_type": "code",
   "execution_count": 23,
   "metadata": {
    "collapsed": false
   },
   "outputs": [
    {
     "name": "stdout",
     "output_type": "stream",
     "text": [
      "#　スコアリング: f1_micro\n",
      "\n",
      "# ベストモデル:\n",
      "\n",
      "DecisionTreeClassifier(class_weight=None, criterion='gini', max_depth=3,\n",
      "            max_features=None, max_leaf_nodes=None,\n",
      "            min_impurity_split=1e-07, min_samples_leaf=1,\n",
      "            min_samples_split=2, min_weight_fraction_leaf=0.0,\n",
      "            presort=False, random_state=0, splitter='best')\n",
      "\n",
      "# ベストパラメータ:\n",
      "\n",
      "{'min_samples_leaf': 1, 'max_depth': 3}\n",
      "\n",
      "# トレーニングデータでCVした時の平均スコア:\n",
      "\n",
      "0.933 (+/- 0.13612) for {'min_samples_leaf': 1, 'max_depth': 2}\n",
      "0.933 (+/- 0.13612) for {'min_samples_leaf': 2, 'max_depth': 2}\n",
      "0.933 (+/- 0.13612) for {'min_samples_leaf': 3, 'max_depth': 2}\n",
      "0.933 (+/- 0.13612) for {'min_samples_leaf': 4, 'max_depth': 2}\n",
      "0.933 (+/- 0.13612) for {'min_samples_leaf': 5, 'max_depth': 2}\n",
      "0.933 (+/- 0.13612) for {'min_samples_leaf': 6, 'max_depth': 2}\n",
      "0.943 (+/- 0.13322) for {'min_samples_leaf': 1, 'max_depth': 3}\n",
      "0.943 (+/- 0.13322) for {'min_samples_leaf': 2, 'max_depth': 3}\n",
      "0.943 (+/- 0.13322) for {'min_samples_leaf': 3, 'max_depth': 3}\n",
      "0.933 (+/- 0.13612) for {'min_samples_leaf': 4, 'max_depth': 3}\n",
      "0.933 (+/- 0.13612) for {'min_samples_leaf': 5, 'max_depth': 3}\n",
      "0.933 (+/- 0.13612) for {'min_samples_leaf': 6, 'max_depth': 3}\n",
      "0.914 (+/- 0.10387) for {'min_samples_leaf': 1, 'max_depth': 4}\n",
      "0.943 (+/- 0.13322) for {'min_samples_leaf': 2, 'max_depth': 4}\n",
      "0.943 (+/- 0.13322) for {'min_samples_leaf': 3, 'max_depth': 4}\n",
      "0.933 (+/- 0.13612) for {'min_samples_leaf': 4, 'max_depth': 4}\n",
      "0.933 (+/- 0.13612) for {'min_samples_leaf': 5, 'max_depth': 4}\n",
      "0.933 (+/- 0.13612) for {'min_samples_leaf': 6, 'max_depth': 4}\n",
      "0.933 (+/- 0.13612) for {'min_samples_leaf': 1, 'max_depth': 5}\n",
      "0.943 (+/- 0.13322) for {'min_samples_leaf': 2, 'max_depth': 5}\n",
      "0.943 (+/- 0.13322) for {'min_samples_leaf': 3, 'max_depth': 5}\n",
      "0.933 (+/- 0.13612) for {'min_samples_leaf': 4, 'max_depth': 5}\n",
      "0.933 (+/- 0.13612) for {'min_samples_leaf': 5, 'max_depth': 5}\n",
      "0.933 (+/- 0.13612) for {'min_samples_leaf': 6, 'max_depth': 5}\n",
      "0.933 (+/- 0.13612) for {'min_samples_leaf': 1, 'max_depth': 6}\n",
      "0.943 (+/- 0.13322) for {'min_samples_leaf': 2, 'max_depth': 6}\n",
      "0.943 (+/- 0.13322) for {'min_samples_leaf': 3, 'max_depth': 6}\n",
      "0.933 (+/- 0.13612) for {'min_samples_leaf': 4, 'max_depth': 6}\n",
      "0.933 (+/- 0.13612) for {'min_samples_leaf': 5, 'max_depth': 6}\n",
      "0.933 (+/- 0.13612) for {'min_samples_leaf': 6, 'max_depth': 6}\n",
      "0.933 (+/- 0.13612) for {'min_samples_leaf': 1, 'max_depth': 7}\n",
      "0.943 (+/- 0.13322) for {'min_samples_leaf': 2, 'max_depth': 7}\n",
      "0.943 (+/- 0.13322) for {'min_samples_leaf': 3, 'max_depth': 7}\n",
      "0.933 (+/- 0.13612) for {'min_samples_leaf': 4, 'max_depth': 7}\n",
      "0.933 (+/- 0.13612) for {'min_samples_leaf': 5, 'max_depth': 7}\n",
      "0.933 (+/- 0.13612) for {'min_samples_leaf': 6, 'max_depth': 7}\n",
      "\n",
      "# テストデータでの識別結果:\n",
      "\n",
      "             precision    recall  f1-score   support\n",
      "\n",
      "          0       1.00      1.00      1.00        16\n",
      "          1       1.00      0.94      0.97        18\n",
      "          2       0.92      1.00      0.96        11\n",
      "\n",
      "avg / total       0.98      0.98      0.98        45\n",
      "\n"
     ]
    }
   ],
   "source": [
    "print_param_table(tree_clf, X_test_std, y_test, 'f1_micro')"
   ]
  },
  {
   "cell_type": "markdown",
   "metadata": {},
   "source": [
    "### ランダムフォレスト\n",
    "ランダムフォレストは決定木を複数組み合わせて、各決定木の予測結果を多数決することによって結果を得ます。\n",
    "\n",
    "以下にアルゴリズムを示します。\n",
    "\n",
    "1. トレーニングデータセットからn個のサンプルをランダムに抽出する\n",
    "2. 決定木を成長させる\n",
    "  - d個の特徴量をランダムに非復元抽出する。\n",
    "  - 目的関数に従って、最適な分割になるような特徴量を使って、ノードを分割する。\n",
    "3. 1,2ステップをk回繰り返す\n",
    "4. 予測結果を多数決することによって分類閾値(ラベル)を決定する。\n",
    "\n",
    "ランダムフォレストはパラメータが非常に簡単になるという利点があります。\n",
    "\n",
    "主要なパラメータはサンプリング数（n）と決定木を成長させる際に使用する特徴量の数(d)だけです。決定木の特徴量数(d)は一般的にサンプル数をnとしたときに$d = \\sqrt n$ にすると良いと言われています。\n",
    "\n",
    "nを大きくすると、ランダム性が低下し、過学習に陥る可能性が高くなる。逆に、nを小さくすると、モデルの精度は低くなるが、過学習には陥りにくくなる。"
   ]
  },
  {
   "cell_type": "code",
   "execution_count": 30,
   "metadata": {
    "collapsed": false
   },
   "outputs": [],
   "source": [
    "from sklearn.ensemble import RandomForestClassifier"
   ]
  },
  {
   "cell_type": "code",
   "execution_count": 31,
   "metadata": {
    "collapsed": false
   },
   "outputs": [
    {
     "name": "stdout",
     "output_type": "stream",
     "text": [
      "{'n_estimators': [1, 2, 3, 4, 5, 6, 7, 8, 9, 10]}\n"
     ]
    },
    {
     "data": {
      "text/plain": [
       "GridSearchCV(cv=5, error_score='raise',\n",
       "       estimator=RandomForestClassifier(bootstrap=True, class_weight=None, criterion='gini',\n",
       "            max_depth=None, max_features='auto', max_leaf_nodes=None,\n",
       "            min_impurity_split=1e-07, min_samples_leaf=1,\n",
       "            min_samples_split=2, min_weight_fraction_leaf=0.0,\n",
       "            n_estimators=10, n_jobs=-1, oob_score=False, random_state=0,\n",
       "            verbose=0, warm_start=False),\n",
       "       fit_params={}, iid=True, n_jobs=1,\n",
       "       param_grid={'n_estimators': [1, 2, 3, 4, 5, 6, 7, 8, 9, 10]},\n",
       "       pre_dispatch='2*n_jobs', refit=True, scoring='f1_micro', verbose=0)"
      ]
     },
     "execution_count": 31,
     "metadata": {},
     "output_type": "execute_result"
    }
   ],
   "source": [
    "# ハイパーパラメータの設定\n",
    "param = {'n_estimators': [i for i in range(1, 11)]}\n",
    "print(param)\n",
    "\n",
    "rf_clf = GridSearchCV(RandomForestClassifier(criterion='gini', random_state=0, n_jobs=-1), param, cv=5, scoring='f1_micro')\n",
    "rf_clf.fit(X_train_std, y_train)"
   ]
  },
  {
   "cell_type": "code",
   "execution_count": 32,
   "metadata": {
    "collapsed": false
   },
   "outputs": [
    {
     "name": "stdout",
     "output_type": "stream",
     "text": [
      "#　スコアリング: f1_micro\n",
      "\n",
      "# ベストモデル:\n",
      "\n",
      "RandomForestClassifier(bootstrap=True, class_weight=None, criterion='gini',\n",
      "            max_depth=None, max_features='auto', max_leaf_nodes=None,\n",
      "            min_impurity_split=1e-07, min_samples_leaf=1,\n",
      "            min_samples_split=2, min_weight_fraction_leaf=0.0,\n",
      "            n_estimators=4, n_jobs=-1, oob_score=False, random_state=0,\n",
      "            verbose=0, warm_start=False)\n",
      "\n",
      "# ベストパラメータ:\n",
      "\n",
      "{'n_estimators': 4}\n",
      "\n",
      "# トレーニングデータでCVした時の平均スコア:\n",
      "\n",
      "0.924 (+/- 0.11088) for {'n_estimators': 1}\n",
      "0.924 (+/- 0.12270) for {'n_estimators': 2}\n",
      "0.914 (+/- 0.13433) for {'n_estimators': 3}\n",
      "0.933 (+/- 0.13612) for {'n_estimators': 4}\n",
      "0.924 (+/- 0.14903) for {'n_estimators': 5}\n",
      "0.933 (+/- 0.13612) for {'n_estimators': 6}\n",
      "0.924 (+/- 0.14903) for {'n_estimators': 7}\n",
      "0.924 (+/- 0.14903) for {'n_estimators': 8}\n",
      "0.933 (+/- 0.13612) for {'n_estimators': 9}\n",
      "0.933 (+/- 0.13612) for {'n_estimators': 10}\n",
      "\n",
      "# テストデータでの識別結果:\n",
      "\n",
      "             precision    recall  f1-score   support\n",
      "\n",
      "          0       1.00      1.00      1.00        16\n",
      "          1       0.89      0.94      0.92        18\n",
      "          2       0.90      0.82      0.86        11\n",
      "\n",
      "avg / total       0.93      0.93      0.93        45\n",
      "\n"
     ]
    }
   ],
   "source": [
    "print_param_table(rf_clf, X_test_std, y_test, 'f1_micro')"
   ]
  },
  {
   "cell_type": "code",
   "execution_count": 34,
   "metadata": {
    "collapsed": false
   },
   "outputs": [
    {
     "data": {
      "image/png": "[encoded data removed]",
      "text/plain": [
       "<matplotlib.figure.Figure at 0x105976828>"
      ]
     },
     "metadata": {},
     "output_type": "display_data"
    }
   ],
   "source": [
    "# 最適なパラメータでのプロット\n",
    "\n",
    "forest = RandomForestClassifier(bootstrap=True, class_weight=None, criterion='gini',\n",
    "            max_depth=None, max_features='auto', max_leaf_nodes=None,\n",
    "            min_impurity_split=1e-07, min_samples_leaf=1,\n",
    "            min_samples_split=2, min_weight_fraction_leaf=0.0,\n",
    "            n_estimators=4, n_jobs=-1, oob_score=False, random_state=0,\n",
    "            verbose=0, warm_start=False)\n",
    "forest.fit(X_train, y_train)\n",
    "\n",
    "plot_decision_regions(X_combined, y_combined, classifier=forest)\n",
    "\n",
    "plt.xlabel('petal length [cm]')\n",
    "plt.ylabel('petal width [cm]')\n",
    "plt.legend(loc='upper left')\n",
    "plt.show()"
   ]
  },
  {
   "cell_type": "markdown",
   "metadata": {},
   "source": [
    "#### ランダムフォレストで特徴量の重要度を測定する\n",
    "ランダムフォレストでは、すべての決定木から計算された不純度の平均的な減少量として特徴量の重要度を測定できます。"
   ]
  },
  {
   "cell_type": "code",
   "execution_count": 43,
   "metadata": {
    "collapsed": false
   },
   "outputs": [
    {
     "name": "stdout",
     "output_type": "stream",
     "text": [
      "[ 0.3070078  0.6929922]\n"
     ]
    }
   ],
   "source": [
    "importances = forest.feature_importances_\n",
    "\n",
    "print(importances)"
   ]
  },
  {
   "cell_type": "code",
   "execution_count": null,
   "metadata": {
    "collapsed": false
   },
   "outputs": [],
   "source": [
    "# ↑特徴量名がわからん笑"
   ]
  }
 ],
 "metadata": {
  "kernelspec": {
   "display_name": "Python 3",
   "language": "python",
   "name": "python3"
  },
  "language_info": {
   "codemirror_mode": {
    "name": "ipython",
    "version": 3
   },
   "file_extension": ".py",
   "mimetype": "text/x-python",
   "name": "python",
   "nbconvert_exporter": "python",
   "pygments_lexer": "ipython3",
   "version": "3.5.3"
  }
 },
 "nbformat": 4,
 "nbformat_minor": 2
}
