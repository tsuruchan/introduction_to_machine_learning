{
 "cells": [
  {
   "cell_type": "markdown",
   "metadata": {
    "deletable": true,
    "editable": true
   },
   "source": [
    "MachineLeaningCourse vol.2\n",
    "# 回帰分析"
   ]
  },
  {
   "cell_type": "markdown",
   "metadata": {
    "collapsed": true,
    "deletable": true,
    "editable": true
   },
   "source": [
    "回帰とは、数値を予想するモデルです。\n",
    "そのためには、説明変数と目的変数の関係を推定し、近似する関数を探し出すアルゴリズムが必要になります。\n",
    "\n",
    "今回は、単回帰分析について勉強していきます。"
   ]
  },
  {
   "cell_type": "markdown",
   "metadata": {
    "deletable": true,
    "editable": true
   },
   "source": [
    "## 単回帰分析\n",
    "単回帰分析とは、一つの特徴量（説明変数）と数値（目的変数）との関係をモデル化したものです。\n",
    "その線形モデルの方程式は以下のように定義されます。\n",
    "\n",
    "$$y=w_0+w_1x$$\n",
    "\n",
    "ここで、重み$w_0$はy軸の切片を表し、$w_1$は説明変数の係数を表します。\n",
    "\n",
    "すなわち、アルゴリズムの内容は「__サンプルの点を通過する直線のうち、最もフィットするものを見つけ出すこと__」です。\n",
    "\n",
    "![](https://s3.amazonaws.com/ai-standard/pic2-1.png)"
   ]
  },
  {
   "cell_type": "markdown",
   "metadata": {
    "deletable": true,
    "editable": true
   },
   "source": [
    "### 単回帰を試す\n",
    "最も簡単な単回帰を試してみましょう。\n",
    "\n",
    "まず、明らかに$y=ax+b$の関係になるようなデータを作り、scikit-learnでモデルを実装し、学習するところまで見ていきます。\n"
   ]
  },
  {
   "cell_type": "code",
   "execution_count": 42,
   "metadata": {
    "collapsed": true,
    "deletable": true,
    "editable": true
   },
   "outputs": [],
   "source": [
    "%matplotlib inline\n",
    "import matplotlib.pyplot as plt\n",
    "import numpy as np"
   ]
  },
  {
   "cell_type": "code",
   "execution_count": 43,
   "metadata": {
    "collapsed": true,
    "deletable": true,
    "editable": true
   },
   "outputs": [],
   "source": [
    "# x=-5~5の範囲で、y=2x-3にあてはまる１００個の乱数を生成する\n",
    "\n",
    "X = np.random.rand(100, 1)\n",
    "X = X*10 - 5\n",
    "y = 2*X - 3"
   ]
  },
  {
   "cell_type": "code",
   "execution_count": 44,
   "metadata": {
    "collapsed": false,
    "deletable": true,
    "editable": true
   },
   "outputs": [
    {
     "data": {
      "image/png": "[encoded data removed]",
      "text/plain": [
       "<matplotlib.figure.Figure at 0x1147469e8>"
      ]
     },
     "metadata": {},
     "output_type": "display_data"
    }
   ],
   "source": [
    "# matplotlibで散布図を表示する\n",
    "\n",
    "plt.scatter(X, y, marker='+')\n",
    "plt.show()"
   ]
  },
  {
   "cell_type": "markdown",
   "metadata": {
    "deletable": true,
    "editable": true
   },
   "source": [
    "### scikit-learnで学習をさせます。\n",
    "##### scikit-learnの使用法\n",
    "![](https://s3.amazonaws.com/ai-standard/pic2-4.png)"
   ]
  },
  {
   "cell_type": "code",
   "execution_count": 45,
   "metadata": {
    "collapsed": false,
    "deletable": true,
    "editable": true
   },
   "outputs": [
    {
     "data": {
      "text/plain": [
       "LinearRegression(copy_X=True, fit_intercept=True, n_jobs=1, normalize=False)"
      ]
     },
     "execution_count": 45,
     "metadata": {},
     "output_type": "execute_result"
    }
   ],
   "source": [
    "from sklearn.linear_model import LinearRegression\n",
    "\n",
    "linear_model = LinearRegression()\n",
    "linear_model.fit(X, y)"
   ]
  },
  {
   "cell_type": "markdown",
   "metadata": {
    "deletable": true,
    "editable": true
   },
   "source": [
    "さて、これで本当に学習できているのでしょうか？\n",
    "\n",
    "このモデルが学習したのは、$y=ax+b$の$a$と$b$の部分です。\n",
    "データ自体は、$y=2x-3$に当てはまるように作成したので、$a=2, b=-3$であれば学習成功となります。\n",
    "\n",
    "さっそく、学習結果をみていきましょう。"
   ]
  },
  {
   "cell_type": "code",
   "execution_count": 46,
   "metadata": {
    "collapsed": false,
    "deletable": true,
    "editable": true
   },
   "outputs": [
    {
     "name": "stdout",
     "output_type": "stream",
     "text": [
      "a : [[ 2.]]\n",
      "b : [-3.]\n"
     ]
    }
   ],
   "source": [
    "# 係数aは、model.coef_、切片bはmodel.intercept_を参照します。\n",
    "print('a : ' + str(linear_model.coef_))\n",
    "print('b : ' + str(linear_model.intercept_))"
   ]
  },
  {
   "cell_type": "markdown",
   "metadata": {
    "deletable": true,
    "editable": true
   },
   "source": [
    "以上より、きちんと学習できていることが分かりました。\n",
    "\n",
    "しかし、実際にはこんなに綺麗なデータはありません。実世界のデータには、もっとバラつきがあります。\n",
    "\n",
    "ですから、先ほどのデータに少しバラつきを加えて、再度学習させてみましょう。"
   ]
  },
  {
   "cell_type": "code",
   "execution_count": 47,
   "metadata": {
    "collapsed": false,
    "deletable": true,
    "editable": true
   },
   "outputs": [
    {
     "data": {
      "image/png": "[encoded data removed]",
      "text/plain": [
       "<matplotlib.figure.Figure at 0x114e3b3c8>"
      ]
     },
     "metadata": {},
     "output_type": "display_data"
    }
   ],
   "source": [
    "# バラつきを加える\n",
    "y += np.random.randn(100, 1)\n",
    "\n",
    "# matplotlibで散布図を表示する\n",
    "plt.scatter(X, y, marker='+')\n",
    "plt.show()"
   ]
  },
  {
   "cell_type": "code",
   "execution_count": 48,
   "metadata": {
    "collapsed": false,
    "deletable": true,
    "editable": true
   },
   "outputs": [
    {
     "data": {
      "text/plain": [
       "LinearRegression(copy_X=True, fit_intercept=True, n_jobs=1, normalize=False)"
      ]
     },
     "execution_count": 48,
     "metadata": {},
     "output_type": "execute_result"
    }
   ],
   "source": [
    "# バラつきを含んだデータを学習させる\n",
    "linear_model_2 = LinearRegression()\n",
    "linear_model_2.fit(X, y)"
   ]
  },
  {
   "cell_type": "code",
   "execution_count": 49,
   "metadata": {
    "collapsed": false,
    "deletable": true,
    "editable": true
   },
   "outputs": [
    {
     "name": "stdout",
     "output_type": "stream",
     "text": [
      "a : [[ 2.04729176]]\n",
      "b : [-2.79834301]\n"
     ]
    }
   ],
   "source": [
    "# 係数aは、model.coef_、切片bはmodel.intercept_を参照します。\n",
    "print('a : ' + str(linear_model_2.coef_))\n",
    "print('b : ' + str(linear_model_2.intercept_))"
   ]
  },
  {
   "cell_type": "markdown",
   "metadata": {
    "deletable": true,
    "editable": true
   },
   "source": [
    "バラつきを含ませる前は、それぞれ2と-3だったので、ほぼ近似しています。\n",
    "\n",
    "したがって、きちんと学習できていることが確認できました。\n",
    "\n",
    "\n",
    "学習した直線をグラフで表示させてみましょう。"
   ]
  },
  {
   "cell_type": "code",
   "execution_count": 50,
   "metadata": {
    "collapsed": false,
    "deletable": true,
    "editable": true
   },
   "outputs": [
    {
     "data": {
      "image/png": "[encoded data removed]",
      "text/plain": [
       "<matplotlib.figure.Figure at 0x114e67710>"
      ]
     },
     "metadata": {},
     "output_type": "display_data"
    }
   ],
   "source": [
    "# グラフ表示\n",
    "plt.scatter(X, y, marker='+')\n",
    "x = np.linspace(-5, 5, 100)\n",
    "plt.plot(x, linear_model_2.predict(x.reshape(100,1)), color='r')\n",
    "plt.show()"
   ]
  },
  {
   "cell_type": "markdown",
   "metadata": {
    "deletable": true,
    "editable": true
   },
   "source": [
    "### 単回帰のパラメータをどのように学習しているのか？\n",
    "ここまでは、scikit-learnを使って単回帰を試し、きちんと学習できていることが分かりました。\n",
    "\n",
    "しかし、これらのアルゴリズムはパラメータ（今回では、aとb）をどのように学習しているかは学んでいませんでした。\n",
    "\n",
    "これからは、回帰を実現する上で欠かせない __「最小二乗法」__ というアイデアについて勉強していきます。"
   ]
  },
  {
   "cell_type": "markdown",
   "metadata": {
    "deletable": true,
    "editable": true
   },
   "source": [
    "#### 最小二乗法とは？\n",
    "最小二乗法とは、 __誤差の二乗の和を最小にすることで、最も確からしい関係式を求める方法__ です。\n",
    "\n",
    "ここでは、最小二乗法によって回帰直線（$y=ax+b$）を求める場合を例にとって、最小二乗法の説明をしていきます。\n",
    "\n",
    "下図の各プロットの目的変数（Y座標）を$y_{(i)}$、説明変数（X座標）を$x_{(i)}$、回帰直線を$y=f(x)$で表すとします。"
   ]
  },
  {
   "cell_type": "markdown",
   "metadata": {
    "deletable": true,
    "editable": true
   },
   "source": [
    "![](https://s3.amazonaws.com/ai-standard/pic2-2.png)"
   ]
  },
  {
   "cell_type": "markdown",
   "metadata": {
    "deletable": true,
    "editable": true
   },
   "source": [
    "直感的に回帰直線を引こうとすると、プロットとモデルの差が最小になるように線を引くことが求められます。\n",
    "\n",
    "式にすると、$y_{(i)}-f(x_{(i)})$の総和が最小になる線です。\n",
    "\n",
    "しかし、よく見てみるとプロットとモデルの差はプラスとマイナスの値のどちらも取り得ることが分かります。\n",
    "\n",
    "このときに考えられる方法は２つあります。\n",
    "- それぞれ絶対値を求め、その和をとる\n",
    "- それぞれ二乗して、すべてプラスの値にする\n",
    "\n",
    "絶対値が含まれている式は扱いが大変になるので、後者の二乗をする方法をとります。\n",
    "\n",
    "すなわち、$(y_{(i)}-f(x_{(i)}))^2$の総和が最小になる関数が、回帰直線になります。\n",
    "\n",
    "以上が、最小二乗法の概要です。\n",
    "\n",
    "今回は、一次関数を参考に最小二乗法を勉強しましたが、変数が複数になっても同様に使用できるアルゴリズムになっています。\n",
    "ですから、__回帰問題を解く一般的な手法__であるという認識を持っておくと良いでしょう。"
   ]
  },
  {
   "cell_type": "markdown",
   "metadata": {
    "deletable": true,
    "editable": true
   },
   "source": [
    "#### プロットとモデルの差が最小になる値をもとめるには...？\n",
    "機械学習アルゴリズムを構成する主要素の一つに、学習過程で最適化される「目的関数」を定義することが挙げられます。\n",
    "多くの場合、この目的関数は最小化したいコスト関数です。\n",
    "\n",
    "今回の場合は、\n",
    "$$J(w)=\\sum_{i}(y_{(i)}-f(x_{(i)}))^2 $$\n",
    "となります。\n",
    "\n",
    "しかし、後々の計算上の工夫のために、上記に$\\frac{1}{2}$をした値を使います。\n",
    "\n",
    "$$J(w)=\\frac{1}{2} \\sum_{i}(y_{(i)}-f(x_{(i)}))^2 $$\n",
    "\n",
    "\n",
    "このコスト関数の特徴は、凸関数であることです。\n",
    "\n",
    "このため __勾配降下法__ というアルゴリズムを用いて、コスト関数を最小化する重みを見つけ出すことができます。\n",
    "\n",
    "勾配降下法の原理は、コストが局所的または大局的最小値に達するまで、下図のように坂を下るというものです。"
   ]
  },
  {
   "cell_type": "markdown",
   "metadata": {
    "deletable": true,
    "editable": true
   },
   "source": [
    "![](https://s3.amazonaws.com/ai-standard/pic2-3.png)"
   ]
  },
  {
   "cell_type": "markdown",
   "metadata": {
    "collapsed": true,
    "deletable": true,
    "editable": true
   },
   "source": [
    "### 勾配降下法のアルゴリズム\n",
    "初期値$＝ｗ$、$ｋ＝０$、$w^*=arg~minJ(w)$\n",
    "1. $w^{(k)}$が$w^{(*)}$に十分近いなら終了\n",
    "2. $\\nabla J(w^{(k)})$を計算\n",
    "3. $w^{(k+1)} = w^{(k)} - \\alpha^{(k)} \\nabla J(w^{(k)})$    ※$\\alpha$は学習率（進む幅）\n",
    "4. $k = k+1$ として１へ。"
   ]
  },
  {
   "cell_type": "markdown",
   "metadata": {
    "collapsed": true,
    "deletable": true,
    "editable": true
   },
   "source": [
    "このように、イテレーションの度に勾配に沿って１ステップずつ進み、その距離は勾配の傾きと、学習率によって決まります。"
   ]
  }
 ],
 "metadata": {
  "kernelspec": {
   "display_name": "Python 3",
   "language": "python",
   "name": "python3"
  },
  "language_info": {
   "codemirror_mode": {
    "name": "ipython",
    "version": 3
   },
   "file_extension": ".py",
   "mimetype": "text/x-python",
   "name": "python",
   "nbconvert_exporter": "python",
   "pygments_lexer": "ipython3",
   "version": "3.5.0"
  }
 },
 "nbformat": 4,
 "nbformat_minor": 2
}
