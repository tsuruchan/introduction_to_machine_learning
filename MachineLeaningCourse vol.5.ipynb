{
 "cells": [
  {
   "cell_type": "markdown",
   "metadata": {},
   "source": [
    "MachineLeaningCourse vol.5\n",
    "# 多項式回帰"
   ]
  },
  {
   "cell_type": "markdown",
   "metadata": {},
   "source": [
    "これまでの内容は、説明変数と目的変数の関係が線形であることを前提としていました。\n",
    "\n",
    "今回は、多項式の項が追加された多項式回帰モデルを使用します。"
   ]
  },
  {
   "cell_type": "markdown",
   "metadata": {},
   "source": [
    "$$y = w_0 + w_1x + w_2x^2 + … + w_dx^d$$"
   ]
  },
  {
   "cell_type": "markdown",
   "metadata": {},
   "source": [
    "ここで、dは多項式の次数を表します。多項式回帰を使って非線形関係をモデリングすることは可能ですが、線形回帰の係数wについては線形であるため、重回帰モデルと見なされます。\n",
    "\n",
    "次に、scikit-learnのPolynomialFeatures変換器クラスを使用して、説明変数が一つだけの単純な回帰問題に対して２次の項（d=2）を追加し、多項式回帰よ線形回帰を比較する方法について見てみましょう。\n",
    "\n",
    "手順は以下の通りです。"
   ]
  },
  {
   "cell_type": "markdown",
   "metadata": {},
   "source": [
    "#### 多項式の２次の項を追加する"
   ]
  },
  {
   "cell_type": "code",
   "execution_count": 16,
   "metadata": {
    "collapsed": true
   },
   "outputs": [],
   "source": [
    "import numpy as np\n",
    "from sklearn.preprocessing import PolynomialFeatures\n",
    "\n",
    "X = np.array([258.0, 270.0, 294.0, 320.0, 342.0, 368.0, 396.0, 446.0, 480.0, 586.0])[:, np.newaxis]\n",
    "y = np.array([236.4, 234.0, 252.8, 298.6, 314.2, 342.2, 360.8, 368.0, 391.2, 390.8])"
   ]
  },
  {
   "cell_type": "code",
   "execution_count": 17,
   "metadata": {
    "collapsed": true
   },
   "outputs": [],
   "source": [
    "from sklearn.linear_model import LinearRegression\n",
    "\n",
    "lr = LinearRegression()\n",
    "pr = LinearRegression()\n",
    "\n",
    "# ２次の多項式特徴量のクラスをインスタンス化\n",
    "pol = PolynomialFeatures(degree=2)\n",
    "\n",
    "# データに適合させ、データを変換\n",
    "X_pol = pol.fit_transform(X)"
   ]
  },
  {
   "cell_type": "code",
   "execution_count": 18,
   "metadata": {
    "collapsed": false
   },
   "outputs": [
    {
     "name": "stdout",
     "output_type": "stream",
     "text": [
      "X　▼\n",
      "[[ 258.]\n",
      " [ 270.]\n",
      " [ 294.]\n",
      " [ 320.]\n",
      " [ 342.]\n",
      " [ 368.]\n",
      " [ 396.]\n",
      " [ 446.]\n",
      " [ 480.]\n",
      " [ 586.]]\n",
      "\n",
      "X_pol　▼\n",
      "[[  1.00000000e+00   2.58000000e+02   6.65640000e+04]\n",
      " [  1.00000000e+00   2.70000000e+02   7.29000000e+04]\n",
      " [  1.00000000e+00   2.94000000e+02   8.64360000e+04]\n",
      " [  1.00000000e+00   3.20000000e+02   1.02400000e+05]\n",
      " [  1.00000000e+00   3.42000000e+02   1.16964000e+05]\n",
      " [  1.00000000e+00   3.68000000e+02   1.35424000e+05]\n",
      " [  1.00000000e+00   3.96000000e+02   1.56816000e+05]\n",
      " [  1.00000000e+00   4.46000000e+02   1.98916000e+05]\n",
      " [  1.00000000e+00   4.80000000e+02   2.30400000e+05]\n",
      " [  1.00000000e+00   5.86000000e+02   3.43396000e+05]]\n"
     ]
    }
   ],
   "source": [
    "print(\"X　▼\\n{}\\n\".format(X))\n",
    "print(\"X_pol　▼\\n{}\".format(X_pol))"
   ]
  },
  {
   "cell_type": "markdown",
   "metadata": {},
   "source": [
    "#### 比較を可能にするために、単純な線形回帰モデルを学習させる"
   ]
  },
  {
   "cell_type": "code",
   "execution_count": 20,
   "metadata": {
    "collapsed": false
   },
   "outputs": [],
   "source": [
    "lr.fit(X, y)\n",
    "\n",
    "X_fit = np.arange(250, 600, 10)[:, np.newaxis]\n",
    "y_lin_fit = lr.predict(X_fit)"
   ]
  },
  {
   "cell_type": "markdown",
   "metadata": {},
   "source": [
    "#### 多項式回帰のために、変換された特徴量で複数の回帰モデルを学習させる"
   ]
  },
  {
   "cell_type": "code",
   "execution_count": 21,
   "metadata": {
    "collapsed": true
   },
   "outputs": [],
   "source": [
    "pr.fit(X_pol, y)\n",
    "\n",
    "y_quad_fit = pr.predict(pol.fit_transform(X_fit))"
   ]
  },
  {
   "cell_type": "code",
   "execution_count": 23,
   "metadata": {
    "collapsed": false
   },
   "outputs": [
    {
     "data": {
      "text/plain": [
       "<function matplotlib.pyplot.show>"
      ]
     },
     "execution_count": 23,
     "metadata": {},
     "output_type": "execute_result"
    },
    {
     "data": {
      "image/png": "[encoded data removed]",
      "text/plain": [
       "<matplotlib.figure.Figure at 0x107040f28>"
      ]
     },
     "metadata": {},
     "output_type": "display_data"
    }
   ],
   "source": [
    "%matplotlib inline\n",
    "import matplotlib.pyplot as plt\n",
    "plt.scatter(X, y, label='training points')\n",
    "plt.plot(X_fit, y_lin_fit, label='linear fit', linestyle='--')\n",
    "plt.plot(X_fit, y_quad_fit, label='quadratic fit')\n",
    "plt.legend(loc='upper left')\n",
    "plt.show"
   ]
  },
  {
   "cell_type": "code",
   "execution_count": 28,
   "metadata": {
    "collapsed": false
   },
   "outputs": [
    {
     "name": "stdout",
     "output_type": "stream",
     "text": [
      "R^2 LinearRegression : 0.831, PolynomialRegression : 0.982\n"
     ]
    }
   ],
   "source": [
    "# R^2スコアの表示\n",
    "print('R^2 LinearRegression : %.3f, PolynomialRegression : %.3f' % (lr.score(X, y), pr.score(X_pol, y)))"
   ]
  },
  {
   "cell_type": "markdown",
   "metadata": {},
   "source": [
    "図と$R^2$スコアを見ると、２次の多項式モデルの法が、データセットにフィットしていることが分かります。\n",
    "\n",
    "このように、多項式モデルは線形モデルでは表現できない曲線を描くことができるので、モデルの性能がより上がる場合が多いです。\n",
    "\n",
    "では、前回と同様にbostonデータセットで学習していきましょう。"
   ]
  },
  {
   "cell_type": "code",
   "execution_count": 38,
   "metadata": {
    "collapsed": false
   },
   "outputs": [],
   "source": [
    "# データセットの読み込み\n",
    "%matplotlib inline\n",
    "import numpy as np\n",
    "import pandas as pd\n",
    "import matplotlib.pyplot as plt\n",
    "from sklearn.datasets import load_boston\n",
    "from sklearn.cross_validation import train_test_split\n",
    "\n",
    "# データセットを読み込み\n",
    "housing = load_boston()\n",
    "columns = housing.feature_names\n",
    "\n",
    "# Pandasのデータフレームに変換\n",
    "boston = pd.DataFrame(housing.data, columns=columns)\n",
    "\n",
    "# 目的変数をDataFrameへ変換\n",
    "boston['MEDV'] = np.array(housing.target)\n",
    "columns = list(columns)\n",
    "columns.append('MEDV')\n",
    "\n",
    "# 説明変数\n",
    "X = boston.loc[:, ['LSTAT']].values\n",
    "# 目的変数\n",
    "y = boston.loc[:, 'MEDV'].values"
   ]
  },
  {
   "cell_type": "markdown",
   "metadata": {},
   "source": [
    "### 多項式の特徴量を作成"
   ]
  },
  {
   "cell_type": "code",
   "execution_count": 39,
   "metadata": {
    "collapsed": true
   },
   "outputs": [],
   "source": [
    "# １次変数を作成するインスタント\n",
    "mod = LinearRegression()\n",
    "\n",
    "# 2次（までの）変数を作成するインスタンス\n",
    "quadratic = PolynomialFeatures(degree = 2)\n",
    "\n",
    "# 3次（までの）変数を作成するインスタンス\n",
    "cubic = PolynomialFeatures(degree = 3)\n",
    "\n",
    "# 変数作成\n",
    "X_quad = quadratic.fit_transform(X)\n",
    "X_cubic = cubic.fit_transform(X)"
   ]
  },
  {
   "cell_type": "markdown",
   "metadata": {},
   "source": [
    "### 多項式モデルの作成"
   ]
  },
  {
   "cell_type": "code",
   "execution_count": 50,
   "metadata": {
    "collapsed": false
   },
   "outputs": [],
   "source": [
    "# モデル式用に変数を作成\n",
    "X_fit = np.arange(X.min(), X.max(), 1)[:, np.newaxis]\n",
    "\n",
    "# 線形回帰モデル、予測値、R^2を評価\n",
    "mod_lin = mod.fit(X, y)\n",
    "y_lin_fit = mod_lin.predict(X_fit)\n",
    "r2_lin = mod.score(X, y)\n",
    "\n",
    "# 2次の項を追加、予測値、R^2を評価\n",
    "mod_quad = mod.fit(X_quad, y)\n",
    "y_quad_fit = mod_quad.predict(quadratic.fit_transform(X_fit))\n",
    "r2_quad = mod.score(X_quad, y)\n",
    "\n",
    "# 3次の項を追加、予測値、R^2を評価\n",
    "mod_cubic = mod.fit(X_cubic, y)\n",
    "y_cubic_fit = mod_cubic.predict(cubic.fit_transform(X_fit))\n",
    "r2_cubic = mod.score(X_cubic, y)"
   ]
  },
  {
   "cell_type": "markdown",
   "metadata": {},
   "source": [
    "#### 各モデルの結果をプロット"
   ]
  },
  {
   "cell_type": "code",
   "execution_count": 56,
   "metadata": {
    "collapsed": false
   },
   "outputs": [
    {
     "data": {
      "image/png": "[encoded data removed]",
      "text/plain": [
       "<matplotlib.figure.Figure at 0x108d8c080>"
      ]
     },
     "metadata": {},
     "output_type": "display_data"
    }
   ],
   "source": [
    "# データ点をプロット\n",
    "plt.scatter(X, y, label = 'Traning points', color = 'lightgray')\n",
    "\n",
    "# 線形モデルのモデル式\n",
    "plt.plot(X_fit, y_lin_fit, \n",
    "         label = 'linear (d = 1), $R^2=%.2f$' % r2_lin,\n",
    "         color = 'blue', lw = 2, linestyle = ':')\n",
    "\n",
    "# 2次\n",
    "plt.plot(X_fit, y_quad_fit, \n",
    "         label = 'quadratic (d = 2), $R^2=%.2f$' % r2_quad, \n",
    "         color = 'red', lw = 2, linestyle = '-')\n",
    "\n",
    "# 3次\n",
    "plt.plot(X_fit, y_cubic_fit, \n",
    "         label = 'cubic (d = 3), $R^2=%.2f$' % r2_cubic,\n",
    "         color = 'green', lw = 2, linestyle = '--')\n",
    "\n",
    "plt.xlabel('LSTAT')\n",
    "plt.ylabel('MEDV')\n",
    "plt.legend(loc = 'upper right')\n",
    "plt.show()"
   ]
  },
  {
   "cell_type": "markdown",
   "metadata": {},
   "source": [
    "#### クロスバリデーションで検証"
   ]
  },
  {
   "cell_type": "code",
   "execution_count": 57,
   "metadata": {
    "collapsed": true
   },
   "outputs": [],
   "source": [
    "# 必要なメソッドのインポート\n",
    "from sklearn.cross_validation import train_test_split\n",
    "\n",
    "# 学習用70%、検証用30%に分割\n",
    "X_train, X_test, y_train, y_test= train_test_split(X, y ,test_size = 0.3, random_state = 0)\n",
    "X_quad_train, X_quad_test, y_train, y_test = train_test_split(X_quad, y , test_size = 0.3, random_state = 0)\n",
    "X_cubic_train, X_cubic_test, y_train, y_test = train_test_split(X_cubic, y , test_size = 0.3, random_state = 0)"
   ]
  },
  {
   "cell_type": "markdown",
   "metadata": {},
   "source": [
    "#### 1次元モデル作成"
   ]
  },
  {
   "cell_type": "code",
   "execution_count": 58,
   "metadata": {
    "collapsed": false
   },
   "outputs": [
    {
     "name": "stdout",
     "output_type": "stream",
     "text": [
      "R^2 Train : 0.552, Test : 0.522\n"
     ]
    }
   ],
   "source": [
    "mod.fit(X_train, y_train)\n",
    "y_train_pred = mod.predict(X_train)\n",
    "y_test_pred = mod.predict(X_test)\n",
    "\n",
    "# 学習用、検証用データに関してR^2を出力\n",
    "print('R^2 Train : %.3f, Test : %.3f' % (mod.score(X_train, y_train), mod.score(X_test, y_test)))"
   ]
  },
  {
   "cell_type": "markdown",
   "metadata": {},
   "source": [
    "#### ２次元モデル作成"
   ]
  },
  {
   "cell_type": "code",
   "execution_count": 60,
   "metadata": {
    "collapsed": false
   },
   "outputs": [
    {
     "name": "stdout",
     "output_type": "stream",
     "text": [
      "R^2 Train : 0.658, Test : 0.596\n"
     ]
    }
   ],
   "source": [
    "mod.fit(X_quad_train, y_train)\n",
    "y_train_pred = mod.predict(X_quad_train)\n",
    "y_test_pred = mod.predict(X_quad_test)\n",
    "\n",
    "# 学習用、検証用データに関してR^2を出力\n",
    "print('R^2 Train : %.3f, Test : %.3f' % (mod.score(X_quad_train, y_train), mod.score(X_quad_test, y_test)))"
   ]
  },
  {
   "cell_type": "markdown",
   "metadata": {},
   "source": [
    "#### ３次元モデル作成"
   ]
  },
  {
   "cell_type": "code",
   "execution_count": 62,
   "metadata": {
    "collapsed": false
   },
   "outputs": [
    {
     "name": "stdout",
     "output_type": "stream",
     "text": [
      "R^2 Train : 0.675, Test : 0.615\n"
     ]
    }
   ],
   "source": [
    "mod.fit(X_cubic_train, y_train)\n",
    "y_train_pred = mod.predict(X_cubic_train)\n",
    "y_test_pred = mod.predict(X_cubic_test)\n",
    "\n",
    "# 学習用、検証用データに関してR^2を出力\n",
    "print('R^2 Train : %.3f, Test : %.3f' % (mod.score(X_cubic_train, y_train), mod.score(X_cubic_test, y_test)))"
   ]
  },
  {
   "cell_type": "markdown",
   "metadata": {},
   "source": [
    "それに加えて、非線形関係をモデリングするにあったて、多項式の特徴量は必ずしも最良の選択肢であるとは限らないです。\n",
    "\n",
    "たとえば、MEDVとLSTATの散布図を見てみると、LSTAT変数の対数とMEDV変数の平方根により、線形回帰モデルの学習に適した線形特徴空間に対して、データを射影できます。\n",
    "\n",
    "以下のコードを使ってこの仮説をテストしてみよう。"
   ]
  },
  {
   "cell_type": "markdown",
   "metadata": {},
   "source": [
    "### 他の非線形効果"
   ]
  },
  {
   "cell_type": "markdown",
   "metadata": {},
   "source": [
    "多項式以外の投入方法として、指数、対数、平方根をとるといった方法があります。\n",
    "\n",
    "今回のデータだと、LSTATの対数をとり、MEDVの平方根をとる、という操作を行うとよりモデルの当てはまりがより向上します。結果をプロットすると以下のようになります。"
   ]
  },
  {
   "cell_type": "code",
   "execution_count": 64,
   "metadata": {
    "collapsed": false
   },
   "outputs": [
    {
     "data": {
      "image/png": "[encoded data removed]",
      "text/plain": [
       "<matplotlib.figure.Figure at 0x108d91fd0>"
      ]
     },
     "metadata": {},
     "output_type": "display_data"
    }
   ],
   "source": [
    "# 非線形変換\n",
    "X_log = np.log(X)\n",
    "y_sqrt = np.sqrt(y)\n",
    "\n",
    "# 線形回帰モデル作成、R^2計算\n",
    "X_fit = np.arange(X_log.min(), X_log.max() + 1, 1)[:, np.newaxis]\n",
    "mod_log = mod.fit(X_log, y_sqrt)\n",
    "y_sqrt_fit = mod_log.predict(X_fit)\n",
    "r2_sqrt = mod.score(X_log, y_sqrt)\n",
    "\n",
    "# プロット\n",
    "plt.scatter(X_log, y_sqrt, label = 'Traning points', color = 'lightgray')\n",
    "plt.plot(X_fit, y_sqrt_fit, \n",
    "         label = 'linear (d = 1), $R^2=%.2f$' % r2_sqrt,\n",
    "         color = 'blue', lw = 2, linestyle = ':')\n",
    "plt.xlabel('log[LSTAT]')\n",
    "plt.ylabel('sqrt[MEDV]')\n",
    "plt.legend(loc = 'upper right')\n",
    "plt.show()"
   ]
  },
  {
   "cell_type": "markdown",
   "metadata": {},
   "source": [
    "$R^2=0.69$ となっており、今回考慮したモデルの中では最も高い数値になっています。"
   ]
  },
  {
   "cell_type": "markdown",
   "metadata": {},
   "source": [
    "### まとめ\n",
    "非線形なものを導入すると、モデルの表現力が上がりデータに対してよりフィットするようになります。\n",
    "\n",
    "一方で過学習しやすくなるというデメリットもあるので、そこのトレードオフを意識していく必要があります。"
   ]
  }
 ],
 "metadata": {
  "kernelspec": {
   "display_name": "Python 3",
   "language": "python",
   "name": "python3"
  },
  "language_info": {
   "codemirror_mode": {
    "name": "ipython",
    "version": 3
   },
   "file_extension": ".py",
   "mimetype": "text/x-python",
   "name": "python",
   "nbconvert_exporter": "python",
   "pygments_lexer": "ipython3",
   "version": "3.5.0"
  }
 },
 "nbformat": 4,
 "nbformat_minor": 2
}
