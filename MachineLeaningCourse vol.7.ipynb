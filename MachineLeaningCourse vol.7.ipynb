{
 "cells": [
  {
   "cell_type": "markdown",
   "metadata": {
    "deletable": true,
    "editable": true
   },
   "source": [
    "MachineLeaningCourse vol.7\n",
    "# ロジスティック回帰"
   ]
  },
  {
   "cell_type": "markdown",
   "metadata": {
    "collapsed": true,
    "deletable": true,
    "editable": true
   },
   "source": [
    "ロジスティック回帰を理解するためには、最初に次のことを考えるとわかりやすいでしょう。\n",
    "基本的な線形モデルを単純にそのまま使ってクラス確率を推定したとすると、そのときに生じる問題とは何でしょうか。\n",
    "\n",
    "インスタンスが決定境界から離れれば離れるほど、ある一方のクラスになる確率が高くなるはずです。そして、線形関数$f(x)$の値は決定境界からの距離を与えます。\n",
    "\n",
    "このことは、ある問題を示しています。$f(x)$は-__∞から∞の値__を取りますが、確率は__０から１の値__を取ります。\n",
    "\n",
    "__境界からの距離__$f(x)$をどのように確率に変換すべきかという問題を、あるクラスに属する可能性という面で考えていきましょう。"
   ]
  },
  {
   "cell_type": "markdown",
   "metadata": {
    "deletable": true,
    "editable": true
   },
   "source": [
    "あることが起きる可能性を表すためによく使われている方法の一つはオッズ（odds）です。なにかがおきる__オッズ__は、__それがおきる確率と起こらない確率の比率__です。\n",
    "\n",
    "オッズは以下の様に定義できます。（この場合、pは正事象の確率を表す）\n",
    "$$\\frac{p}{(1-p)}$$\n",
    "\n",
    "例えば、何かが起きる確率が８０％だったとすると、そのオッズは80:20あるいは4:1です。\n",
    "そして線形関数がオッズを与えてくれるなら、ちょっとした計算でそのオッズを確率に変換できます。\n",
    "\n",
    "\n",
    "もっと詳しい例を見てみましょう。下の表はさまざまな確率に応じたオッズを示しています。\n",
    "\n",
    "|確率|オッズ|\n",
    "|:--|:--|\n",
    "|0.5|50:50または1|\n",
    "|0.9|90:10または9|\n",
    "|0.999|999:1または999|\n",
    "|0.01|1:99または0.101|\n",
    "|0.001|1:999または0.001001|\n",
    "\n",
    "\n",
    "ここで、境界からの距離は-∞から∞です。しかしこの例からわかるように、オッズの幅は0から∞です。\n",
    "\n",
    "ですから、まだこれをそのまま__決定境界からの距離__だと解釈することはできないことが分かります。\n",
    "\n",
    "\n",
    "それでも、単に__オッズの対数__を求めるだけで、__-∞から∞の間の数値__にすることができます。\n",
    "\n",
    "|確率|オッズ|Log-odds|\n",
    "|:--|:--|:--|\n",
    "|0.5|50:50または1|0|\n",
    "|0.9|90:10または9|2.19|\n",
    "|0.999|999:1または999|6.9|\n",
    "|0.01|1:99または0.101|-4.6|\n",
    "|0.001|1:999または0.001001|-6.9|\n",
    "\n",
    "オッズ比の対数をとる関数をロジット関数と定義します。\n",
    "\n",
    "$$logit(p) = log \\frac{p}{(1-p)}$$\n",
    "\n",
    "ロジット関数は、__０よりも大きく１よりも小さい範囲の入力値__を受け取り、__実数の全範囲__の値に変換します。\n",
    "\n",
    "この関数を使って、特徴量の値と対数オッズの線形関係を表すことができます。\n",
    "\n",
    "$$logit(p(y=1| x)) = w_0x_0 +  w_1x_1 + …　+  w_mx_m = \\sum{m}_{i=0} w_ix_i = w^Tx$$\n",
    "\n",
    "つまり、__$logit(p(y=1| x)) $とはxがプラスのクラスに属する場合のlog-oddsの推定__です。ここで関心があるのは、サンプルが特定のクラスに属している確率を予測することである。\n",
    "そのためにはロジット関数の逆関数であり、__ロジスティック関数__と呼ばれる関数を使用します。\n",
    "\n",
    "$$\\Phi(z) = \\frac{1}{1+e^{-z}}$$\n",
    "\n",
    "この場合のzは総入力です。つまり、重みとサンプルの特徴量の線形結合であり、以下のように計算できます。\n",
    "\n",
    "$$z =w^Tx = w_0x_0 +  w_1x_1 + …　+  w_mx_m$$\n",
    "\n",
    "ロジスティック関数は、式だとよく分かりませんが、グラフにすると直感的に分かりやすいです。\n",
    "\n",
    "zの絶対値が大きくなると、どちらか一方のクラスになる確率が増します。逆に、小さいとどちらのクラスになるか不明確です。"
   ]
  },
  {
   "cell_type": "code",
   "execution_count": 2,
   "metadata": {
    "collapsed": false,
    "deletable": true,
    "editable": true
   },
   "outputs": [
    {
     "data": {
      "image/png": "[encoded data removed]",
      "text/plain": [
       "<matplotlib.figure.Figure at 0x10aba06a0>"
      ]
     },
     "metadata": {},
     "output_type": "display_data"
    }
   ],
   "source": [
    "# ロジスティック関数をプロット\n",
    "%matplotlib inline\n",
    "import numpy as np\n",
    "import matplotlib.pyplot as plt\n",
    "\n",
    "def sigmoid(x):\n",
    "    return 1.0 / (1.0 + np.exp(-x))\n",
    "\n",
    "x = np.arange(-10., 10., 0.2)\n",
    "sig = sigmoid(x)\n",
    "plt.xlabel('z')\n",
    "plt.ylabel('$\\Phi (z)$')\n",
    "plt.yticks([0.0, 0.5, 1.0])\n",
    "ax = plt.gca()\n",
    "ax.yaxis.grid(True)\n",
    "plt.plot(x,sig)\n",
    "plt.show()"
   ]
  },
  {
   "cell_type": "markdown",
   "metadata": {
    "deletable": true,
    "editable": true
   },
   "source": [
    "特徴量xが重みwでパラメータ化されるとすれば、このシグモイド関数の出力は、サンプルがクラス１に属している確率$\\Phi(z) = P(y=1|x; w)$であると解釈されます。\n",
    "\n",
    "例えば、あるサンプルに対して、$\\Phi(z) =0.8$が算出される場合は８０％の確率で正クラスに分類されることを示しています。\n",
    "\n",
    "あとは予測された確率を用いて、２つのクラスに分類するために変換をします。\n",
    "\n",
    "$$ 分類値 =\\begin{eqnarray}\n",
    "\\left\\{\n",
    "\\begin{array}{l}\n",
    "1\\ \\ (\\Phi(z)\\geq0.5) \\\\\n",
    "0\\ \\ (\\Phi(z) < 0.5)\n",
    "\\end{array}\n",
    "\\right.\n",
    "\\end{eqnarray}\n",
    "$$\n",
    "\n",
    "先のS字形のグラフと照合すると、これは以下と等価であることがわかります。\n",
    "\n",
    "$$ 分類値 =\\begin{eqnarray}\n",
    "\\left\\{\n",
    "\\begin{array}{l}\n",
    "1\\ \\ (z\\geq0.0) \\\\\n",
    "0\\ \\ (z < 0.0)\n",
    "\\end{array}\n",
    "\\right.\n",
    "\\end{eqnarray}\n",
    "$$\n",
    "\n",
    "実際のところ、多くのアプリケーションでは、予測されるクラスラベルに関心があるだけでなく、クラスの所属関係の確立を見積もることが役に立ちます。\n",
    "\n",
    "たとえば、気象予報において、雨が降るかどうかでなく、降水確率も発表するためにロジスティック回帰が使用されます。\n",
    "\n",
    "同様に、特定の症状に基づいて患者が疾患にかかっている確率を予想する目的でもしようできるため、ロジスティック回帰は医療分野でも広く利用されています。"
   ]
  },
  {
   "cell_type": "markdown",
   "metadata": {
    "deletable": true,
    "editable": true
   },
   "source": [
    "それでは、ロジスティック回帰の__目的関数__を考えていきましょう。\n",
    "\n",
    "まずは、理想の分類状態を考えます。\n",
    "- y = 1 の時は$P(y=1|\\ x)$が最大になって欲しい\n",
    "- y = 0 の時は$P(y=0|\\ x)$が最大になって欲しい\n",
    "\n",
    "このようになると思います。\n",
    "\n",
    "これを全てのデータセットについて考えます。\n",
    "すると、目的関数は以下のような同時確率として考えることができます。\n",
    "\n",
    "$$L(w) = \\prod^{n}_{i=1} P(y^{(i)}=1|x)^{y^{(i)}} P(y^{(i)}=0|x)^{1-y^{(i)}}$$\n",
    "\n",
    "よって、これを最大化するwを見つけることが目的となります。\n",
    "この式は以下の式と同義です。\n",
    "\n",
    "$$L(w) = \\prod^{n}_{i=1} (\\Phi(z^{(i)}))^{y^{(i)}} (1 - \\Phi(z^{(i)}))^{1-y^{(i)}}$$\n",
    "\n",
    "つまり全ての学習用データにおいて、__正解ラベルと同じラベルに分類される確率が最大になるような同時確率__を考えているということです。\n",
    "\n",
    "同時確率が最も高くなるようなパラメータ wこそ、学習用データにフィットしていると言えます。\n",
    "そういった、__尤もらしいパラメータ__を求めます。\n",
    "先ほど定義した関数は、__尤度関数__とも呼ばれている。\n"
   ]
  },
  {
   "cell_type": "markdown",
   "metadata": {
    "collapsed": true,
    "deletable": true,
    "editable": true
   },
   "source": [
    "尤度関数はそのままだと使いにくい状態です。\n",
    "\n",
    "まず、確率のかけ算なので０〜１の値のかけ算を繰り返すと、どんどん値が小さくなってしまいます。\n",
    "\n",
    "そして、かけ算は足し算に比べて計算がめんどくさいという点もあります。\n",
    "\n",
    "\n",
    "ですから、__尤度関数の対数__をとったもの（対数尤度関数）を最大化することにします。\n",
    "\n",
    "$$Log L(w) = \\sum^{n}_{i=0}[y^{(i)} log(\\Phi(z^{(i)})) + (1 - y^{(i)}) log (1 - \\Phi(z^{(i)}))]$$"
   ]
  },
  {
   "cell_type": "markdown",
   "metadata": {
    "deletable": true,
    "editable": true
   },
   "source": [
    "これによって、勾配上昇法などの最適化アルゴリズムを用いて、この対数尤度関数を最大化できるようになりました。\n",
    "\n",
    "しかし、その代わりの方法として、前までに示してきたような勾配降下法を用いて最小化できるコスト関数Jとして対数尤度関数を書き直してみよう。\n",
    "\n",
    "$Log L(w)$を最大化させる問題と、$- Log L(w)$を最小化することは全く同じです。\n",
    "\n",
    "$$J(w) = - \\sum^{n}_{i=0}[y^{(i)} log(\\Phi(z^{(i)})) + (1 - y^{(i)}) log (1 - \\Phi(z^{(i)}))]$$"
   ]
  },
  {
   "cell_type": "markdown",
   "metadata": {
    "deletable": true,
    "editable": true
   },
   "source": [
    "以上が、ロジスティック回帰のコスト関数となります。\n",
    "\n",
    "コスト関数が定義できれば、勾配降下法を用いて重みの更新式を導くことが出来ます。\n",
    "\n",
    "まず、コスト関数を偏微分します。\n",
    "\n",
    "$$ \\frac{\\partial }{\\partial w_j} J(w) = - \\Bigl(y \\frac{1}{\\Phi(z)} - (1 - y)\\frac{1}{1-\\Phi(z)} \\Bigr)\\frac{\\partial}{\\partial w_j}\\Phi(z) $$\n",
    "\n",
    "次に進む前に、シグモイド関数の偏導関数を計算してみましょう。\n",
    "\n",
    "$$ \\frac{\\partial }{\\partial z} \\Phi(z) = \\frac{1}{(1+ e^{(-z)})}e^{-z}=\\frac{1}{1+e^{-z}}\\Bigl(1 - \\frac{1}{1+e^{-z}}\\Bigr)=\\Phi(z)(1-\\Phi(z))$$ \n",
    "\n",
    "上記の２つの式より、\n",
    "\n",
    "$$ \\frac{\\partial }{\\partial w_j} J(w) = - \\Bigl(y \\frac{1}{\\Phi(z)} - (1 - y)\\frac{1}{1-\\Phi(z)} \\Bigr)\\Phi(z)(1-\\Phi(z))\\frac{\\partial}{\\partial w_j}z$$\n",
    "\n",
    "$$=- \\bigl(y(1-\\Phi(z)) - (1-y)\\Phi(z)\\bigr)x_j$$\n",
    "\n",
    "$$=-\\bigl(y-\\Phi(z)\\bigr)x_j$$\n",
    "\n",
    "以上から、下記の更新規則が導き出せます。\n",
    "\n",
    "$$w_j := w_j - \\alpha\\sum^{n}_{i=1}\\bigl(y-\\Phi(z)\\bigr)x_j$$\n",
    "\n",
    "\n",
    "これからは実際に、Irisデータセットを使って、ロジスティック回帰を実行していく。"
   ]
  },
  {
   "cell_type": "markdown",
   "metadata": {
    "deletable": true,
    "editable": true
   },
   "source": [
    "##### Irisデータセットの読み込み"
   ]
  },
  {
   "cell_type": "code",
   "execution_count": 3,
   "metadata": {
    "collapsed": false,
    "deletable": true,
    "editable": true
   },
   "outputs": [
    {
     "name": "stderr",
     "output_type": "stream",
     "text": [
      "/Users/tsuruoka/.pyenv/versions/anaconda3-2.4.0/lib/python3.5/site-packages/sklearn/utils/fixes.py:64: DeprecationWarning: inspect.getargspec() is deprecated, use inspect.signature() instead\n",
      "  if 'order' in inspect.getargspec(np.copy)[0]:\n"
     ]
    }
   ],
   "source": [
    "from sklearn import datasets\n",
    "import numpy as np\n",
    "\n",
    "iris = datasets.load_iris()\n",
    "X = iris.data[:,[2,3]]\n",
    "y = iris.target"
   ]
  },
  {
   "cell_type": "code",
   "execution_count": 4,
   "metadata": {
    "collapsed": false,
    "deletable": true,
    "editable": true
   },
   "outputs": [],
   "source": [
    "from sklearn.cross_validation import train_test_split\n",
    "\n",
    "X_train, X_test, y_train, y_test = train_test_split(X, y, test_size=0.3, random_state=0)"
   ]
  },
  {
   "cell_type": "code",
   "execution_count": 5,
   "metadata": {
    "collapsed": true,
    "deletable": true,
    "editable": true
   },
   "outputs": [],
   "source": [
    "from sklearn.preprocessing import StandardScaler\n",
    "\n",
    "scaler = StandardScaler()\n",
    "\n",
    "# トレーニングデータの平均と標準偏差を計算\n",
    "scaler.fit(X_train)\n",
    "\n",
    "# 平均と標準偏差を用いて標準化\n",
    "X_train_std = scaler.transform(X_train)\n",
    "X_test_std =  scaler.transform(X_test)"
   ]
  },
  {
   "cell_type": "code",
   "execution_count": 6,
   "metadata": {
    "collapsed": true,
    "deletable": true,
    "editable": true
   },
   "outputs": [],
   "source": [
    "# ２次元データの決定曲線をプロットする関数\n",
    "def plot_decision_regions(X, y, classifier, resolution=0.02):\n",
    "    from matplotlib.colors import ListedColormap\n",
    "    markers = (\"s\", \"x\", \"o\", \"^\", \"v\")\n",
    "    colors = (\"red\", \"blue\", \"lightgreen\", \"gray\", \"cyan\")\n",
    "    cmap = ListedColormap(colors[:len(np.unique(y))])\n",
    "    \n",
    "    x1_min, x1_max = X[:, 0].min()-1 , X[:, 0].max() +1\n",
    "    x2_min, x2_max = X[:, 1].min()-1 , X[:, 1].max() +1\n",
    "    \n",
    "    xx1, xx2 = np.meshgrid(np.arange(x1_min, x1_max, resolution), np.arange(x2_min, x2_max, resolution))\n",
    "    Z = classifier.predict(np.array([xx1.ravel(), xx2.ravel()]).T)\n",
    "    Z = Z.reshape(xx1.shape)\n",
    "    plt.contourf(xx1, xx2, Z, alpha=0.4, cmap=cmap)\n",
    "    \n",
    "    plt.xlim(xx1.min(), xx1.max())\n",
    "    plt.ylim(xx2.min(), xx2.max())\n",
    "    \n",
    "    for idx, cl in enumerate(np.unique(y)):\n",
    "        plt.scatter(x=X[y == cl, 0], y=X[y == cl, 1], alpha=0.8, c=cmap(idx),marker=markers[idx], label=cl)"
   ]
  },
  {
   "cell_type": "markdown",
   "metadata": {
    "deletable": true,
    "editable": true
   },
   "source": [
    "### scikit-learnのロジスティック回帰で実践"
   ]
  },
  {
   "cell_type": "code",
   "execution_count": 7,
   "metadata": {
    "collapsed": false,
    "deletable": true,
    "editable": true
   },
   "outputs": [
    {
     "name": "stderr",
     "output_type": "stream",
     "text": [
      "/Users/tsuruoka/.pyenv/versions/anaconda3-2.4.0/lib/python3.5/site-packages/sklearn/base.py:175: DeprecationWarning: inspect.getargspec() is deprecated, use inspect.signature() instead\n",
      "  args, varargs, kw, default = inspect.getargspec(init)\n"
     ]
    },
    {
     "data": {
      "text/plain": [
       "LogisticRegression(C=1000.0, class_weight=None, dual=False,\n",
       "          fit_intercept=True, intercept_scaling=1, max_iter=100,\n",
       "          multi_class='ovr', penalty='l2', random_state=0,\n",
       "          solver='liblinear', tol=0.0001, verbose=0)"
      ]
     },
     "execution_count": 7,
     "metadata": {},
     "output_type": "execute_result"
    }
   ],
   "source": [
    "from sklearn.linear_model import LogisticRegression\n",
    "\n",
    "lr = LogisticRegression(C=1000.0, random_state=0)\n",
    "lr.fit(X_train_std, y_train)"
   ]
  },
  {
   "cell_type": "markdown",
   "metadata": {
    "deletable": true,
    "editable": true
   },
   "source": [
    "テストデータで、スコアを算出"
   ]
  },
  {
   "cell_type": "code",
   "execution_count": 8,
   "metadata": {
    "collapsed": false,
    "deletable": true,
    "editable": true
   },
   "outputs": [
    {
     "data": {
      "text/plain": [
       "0.97777777777777775"
      ]
     },
     "execution_count": 8,
     "metadata": {},
     "output_type": "execute_result"
    }
   ],
   "source": [
    "lr.score(X_test_std, y_test)"
   ]
  },
  {
   "cell_type": "markdown",
   "metadata": {
    "deletable": true,
    "editable": true
   },
   "source": [
    "#### 結果をプロット"
   ]
  },
  {
   "cell_type": "code",
   "execution_count": 9,
   "metadata": {
    "collapsed": false,
    "deletable": true,
    "editable": true
   },
   "outputs": [
    {
     "name": "stderr",
     "output_type": "stream",
     "text": [
      "/Users/tsuruoka/.pyenv/versions/anaconda3-2.4.0/lib/python3.5/site-packages/matplotlib/collections.py:590: FutureWarning: elementwise comparison failed; returning scalar instead, but in the future will perform elementwise comparison\n",
      "  if self._edgecolors == str('face'):\n"
     ]
    },
    {
     "data": {
      "image/png": "[encoded data removed]",
      "text/plain": [
       "<matplotlib.figure.Figure at 0x10c32a5c0>"
      ]
     },
     "metadata": {},
     "output_type": "display_data"
    }
   ],
   "source": [
    "X_combined_std = np.vstack((X_train_std, X_test_std))\n",
    "y_combined = np.hstack((y_train, y_test))\n",
    "plt.figure(figsize=(12, 9))\n",
    "plot_decision_regions(X=X_combined_std, y=y_combined, classifier=lr)\n",
    "plt.xlabel(\"petal length [standardizd]\")\n",
    "plt.ylabel(\"petal width [standardizd]\")\n",
    "\n",
    "plt.legend(loc = \"upper left\")\n",
    "plt.show()"
   ]
  },
  {
   "cell_type": "markdown",
   "metadata": {
    "deletable": true,
    "editable": true
   },
   "source": [
    "図を見て分かるように、前回のパーセプトロンと比べると圧倒的に分類精度が良いことが分かります。\n",
    "\n",
    "ここからは、\n",
    "\n",
    "~~~\n",
    "lr = LogisticRegression(C=1000.0, random_state=0)\n",
    "~~~\n",
    "\n",
    "上記の__引数C__について勉強します。\n",
    "\n",
    "まず、過学習と汎化性能のトレードオフを探す方法の一つとして、正則化に基づいて複雑さを調整することがあげられます。\n",
    "\n",
    "vol.3で学習したように、ロジスティック回帰にも正則化項を導入することによって、極端なパラメータの重みにペナルティを科します。\n",
    "\n",
    "以下で定義される、L2正則化を追加します。\n",
    "\n",
    "$$ \\frac{\\lambda }{2} ||w||^2 = \\frac{\\lambda }{2}\\sum^{m}_{j=1} w^2_j$$\n",
    "\n",
    "この場合、$\\lambda$はいわゆる正則化パラメータです。\n",
    "\n",
    "よって正則化を追加したロジスティック回帰は以下のようになります。\n",
    "\n",
    "$$J(w) = - \\sum^{n}_{i=0}[y^{(i)} log(\\Phi(z^{(i)})) + (1 - y^{(i)}) log (1 - \\Phi(z^{(i)}))] + \\frac{\\lambda }{2} ||w||^2$$\n",
    "\n",
    "__正則化パラメータ$\\lambda$を使用することで、重みを小さく保ちながらトレーニングデータセットをどの程度適合させるかを制御できます。__\n",
    "\n",
    "__正則化の強さを高めるには、$\\lambda$の値を大きく__します。\n",
    "\n",
    "scikit-learnのLogisticRegressionクラスに実装されているパラメータCは、慣習により正則化パラメータの逆数となっているので気をつけて下さい。\n",
    "\n",
    "$$ C = \\frac{1}{\\lambda} $$\n",
    "\n",
    "したがって、ロジスティック回帰の正則化されたコスト関数は以下のように記述できます。\n",
    "\n",
    "$$J(w) = - C \\sum^{n}_{i=0}[y^{(i)} log(\\Phi(z^{(i)})) + (1 - y^{(i)}) log (1 - \\Phi(z^{(i)}))] + \\frac{1}{2} ||w||^2$$\n",
    "\n",
    "要するに、__逆正則化パラメータCの値を減らすことは、正則化の強さを高めることを意味__します。\n",
    "\n",
    "正則化の強さを可視化するには、２つの重み係数と逆正則化パラメータとの関係をプロットしましょう。"
   ]
  },
  {
   "cell_type": "code",
   "execution_count": 10,
   "metadata": {
    "collapsed": false,
    "deletable": true,
    "editable": true
   },
   "outputs": [
    {
     "data": {
      "image/png": "[encoded data removed]",
      "text/plain": [
       "<matplotlib.figure.Figure at 0x10abd1a90>"
      ]
     },
     "metadata": {},
     "output_type": "display_data"
    }
   ],
   "source": [
    "# グラフのプロット\n",
    "weigth, params = [], []\n",
    "for i in range(-5, 5):\n",
    "    c = 10 ** i\n",
    "    lr = LogisticRegression(C=c, random_state=0)\n",
    "    lr.fit(X_train_std, y_train)\n",
    "    weigth.append(lr.coef_[1])\n",
    "    params.append(c)\n",
    "    \n",
    "weigth = np.array(weigth)\n",
    "plt.plot(params, weigth[:, 0], label='petal length')\n",
    "plt.plot(params, weigth[:, 1], linestyle='--', label='petal width')\n",
    "plt.ylabel('weight coefficient')\n",
    "plt.xlabel('C')\n",
    "plt.legend(loc='upper left')\n",
    "\n",
    "plt.xscale('log')\n",
    "plt.show()"
   ]
  },
  {
   "cell_type": "markdown",
   "metadata": {
    "deletable": true,
    "editable": true
   },
   "source": [
    "図から分かるように、パラメータCが減少し、正則化の強さが増すと、重み係数が０に近づいていく。"
   ]
  }
 ],
 "metadata": {
  "kernelspec": {
   "display_name": "Python 3",
   "language": "python",
   "name": "python3"
  },
  "language_info": {
   "codemirror_mode": {
    "name": "ipython",
    "version": 3
   },
   "file_extension": ".py",
   "mimetype": "text/x-python",
   "name": "python",
   "nbconvert_exporter": "python",
   "pygments_lexer": "ipython3",
   "version": "3.5.0"
  }
 },
 "nbformat": 4,
 "nbformat_minor": 2
}
