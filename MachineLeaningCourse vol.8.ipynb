{
 "cells": [
  {
   "cell_type": "markdown",
   "metadata": {
    "deletable": true,
    "editable": true
   },
   "source": [
    "MachineLeaningCourse vol.7\n",
    "# サポートベクターマシン"
   ]
  },
  {
   "cell_type": "markdown",
   "metadata": {
    "deletable": true,
    "editable": true
   },
   "source": [
    "サポートベクターマシン（Support Vector Machine：SVM）は広く利用されている強力な学習アルゴリズムの１つであり、パーセプトロンの拡張と見なすことが出来きます。\n",
    "\n",
    "SVMはマージン最大化という考えで、高い汎化性能を持つことが知られています。マージンとは、超平面とこの超平面に最も近いトレーニングサンプルとの間の距離として定義されます。\n",
    "\n",
    "今回は、SVMがどのような考えでデータを識別するように学習を行うのかを説明していきたいと思います。\n",
    "\n",
    "SVMは、カーネル法を用いることで非線形への拡張ができるので、線形分離不可能な場合でも適用可能になる。それゆえ、高い性能と人気を誇るアルゴリズムである。"
   ]
  },
  {
   "cell_type": "markdown",
   "metadata": {
    "deletable": true,
    "editable": true
   },
   "source": [
    "#### 2クラス分類\n",
    "２つのクラスを分ける超平面は無数にあります。その際に、最もよい超平面とは汎化性能が高いものです。\n",
    "\n",
    "例えば、パーセプトロンで以下のようなクラスの端のギリギリを通る決定境界（緑の線）を引いてしまった場合、新しいサンプルに対応できない可能性が高いです。\n",
    "![](https://s3.amazonaws.com/ai-standard/pic7-2.png)\n",
    "\n",
    "そこで考えられたのが、SVMです。\n",
    "SVMでは図のように、__2つのグループ間の最も距離の離れた箇所（最大マージン）を見つけ出し、その真ん中に識別の線を引きます__。\n",
    "\n",
    "マージンとは、引いた境界線と、データの最短距離のことを言います。\n",
    "超平面に最も近いトレーニングサンプルは__サポートベクトル__と呼びます。\n",
    "![](https://s3.amazonaws.com/ai-standard/pic7-1.png)\n",
    "\n",
    "このように最大マージンの真ん中に引いた線が、最も汎化能力が高い事が期待出来ます。"
   ]
  },
  {
   "cell_type": "markdown",
   "metadata": {
    "deletable": true,
    "editable": true
   },
   "source": [
    "### 最大マージンの求め方\n",
    "まずは、決定境界に沿った正(pos)と負(neg)の超平面は以下のように定義できる。\n",
    "\n",
    "$$w_0 + w^Tx_{pos} = 1$$\n",
    "\n",
    "$$w_0 + w^Tx_{neg} = -1$$\n",
    "\n",
    "上記の式を引き算すると、以下になる。\n",
    "\n",
    "$$w^T(x_{pos} - x_{neg}) = 2$$\n",
    "\n",
    "ここで、ベクトルの長さを定義して、上記の式を標準化する。\n",
    "\n",
    "$$\\frac {w^T(x_{pos} - x_{neg})} {||w||} = \\frac{2}{||w||}$$\n",
    "\n",
    "$$ただし、||w|| = \\sqrt[]{\\sum^{m}_{j=1} w^2_j}$$\n",
    "\n",
    "この式の左辺は、正の超平面と負の超平面の距離であると解釈できる。これは最大化したいマージンそのものである。\n",
    "\n",
    "SVMの目的関数を最大化する問題は、$\\frac{2}{||w||}$の最大化となる。\n",
    "\n",
    "しかし、$\\frac{2}{||w||}$は計算が難しいので、逆数をとって２乗した$\\frac{1}{2}||w||^2$を最小化する方が簡単です。\n",
    "\n",
    "\n",
    "\n",
    "そして、SVMにはサンプルが正しく分類されているという__制約__があります。\n",
    "\n",
    "$$w_0 + w^Tx^{(i)} \\geq 1$$\n",
    "\n",
    "$$w_0 + w^Tx^{(i)} < -1$$\n",
    "\n",
    "これら２つの式は、基本的には負のサンプルはすべて負の超平面側にあり、正のサンプルはすべて正の超平面の後ろに収まることを意味している。\n",
    "\n",
    "２つの式をまとめると、\n",
    "\n",
    "$$y^{(i)}(w_0 + w^Tx^{(i)}) \\geq 1$$\n",
    "\n",
    "となる。（$y^{(i)}=-1,1$）\n",
    "\n",
    "\n",
    "これらをまとめると、SVMが解く問題は以下になります。\n",
    "\n",
    "$$min. \\  \\frac{1}{2}||w||^2$$\n",
    "\n",
    "$$s.t.\\  y^{(i)}(w_0 + w^Tx^{(i)}) \\geq 1$$"
   ]
  },
  {
   "cell_type": "markdown",
   "metadata": {
    "deletable": true,
    "editable": true
   },
   "source": [
    "#### スラック変数の導入\n",
    "これまで見てきたようにSVMは、__データがマージン内に入らないことを前提__としています。\n",
    "\n",
    "しかし、現実的にそうなるようなデータセットはなかなかありません。したがって、__データの誤分類を許すようにSVMを修正__します。\n",
    "\n",
    "そのためにまず、__スラック変数__  $\\xi$をデータごとに導入します。\n",
    "\n",
    "スラック変数は、データが正しく分類されかつマージン境界上または外側にある場合は0、正しく分類されているがマージン内に侵入してしまっているデータは 0 < $\\xi $ <= 1、分類境界を越えて誤分類されてしまったデータは $\\xi$ > 1となります。\n",
    "\n",
    "$$w_0 + w^Tx^{(i)} \\geq 1 - \\xi^{(i)}$$\n",
    "\n",
    "$$w_0 + w^Tx^{(i)} < - 1+ \\xi^{(i)}$$\n",
    "\n",
    "したがって、最小化すべき対象は以下の様になります。\n",
    "\n",
    "$$ \\frac{1}{2}||w||^2 + C \\Bigl(\\sum_{i} \\xi^{(i)} \\Bigr)$$\n",
    "\n",
    "あとは、変数Cを使って誤分類のペナルティを抑制すればいよい。Cの値が大きい場合は誤分類のペナルティが大きいことを意味し、Cの値が小さい場合は誤分類に対してより寛大であることを意味する。"
   ]
  },
  {
   "cell_type": "markdown",
   "metadata": {
    "deletable": true,
    "editable": true
   },
   "source": [
    "### scikit-learnでSVMを実践\n",
    "##### Irisデータセットの読み込み"
   ]
  },
  {
   "cell_type": "code",
   "execution_count": 73,
   "metadata": {
    "collapsed": false,
    "deletable": true,
    "editable": true
   },
   "outputs": [],
   "source": [
    "from sklearn import datasets\n",
    "import numpy as np\n",
    "\n",
    "iris = datasets.load_iris()\n",
    "X = iris.data[:,[2,3]]\n",
    "y = iris.target"
   ]
  },
  {
   "cell_type": "code",
   "execution_count": 74,
   "metadata": {
    "collapsed": false,
    "deletable": true,
    "editable": true
   },
   "outputs": [],
   "source": [
    "from sklearn.cross_validation import train_test_split\n",
    "\n",
    "X_train, X_test, y_train, y_test = train_test_split(X, y, test_size=0.3, random_state=0)"
   ]
  },
  {
   "cell_type": "code",
   "execution_count": 75,
   "metadata": {
    "collapsed": true,
    "deletable": true,
    "editable": true
   },
   "outputs": [],
   "source": [
    "from sklearn.preprocessing import StandardScaler\n",
    "\n",
    "scaler = StandardScaler()\n",
    "\n",
    "# トレーニングデータの平均と標準偏差を計算\n",
    "scaler.fit(X_train)\n",
    "\n",
    "# 平均と標準偏差を用いて標準化\n",
    "X_train_std = scaler.transform(X_train)\n",
    "X_test_std =  scaler.transform(X_test)"
   ]
  },
  {
   "cell_type": "code",
   "execution_count": 76,
   "metadata": {
    "collapsed": true,
    "deletable": true,
    "editable": true
   },
   "outputs": [],
   "source": [
    "# ２次元データの決定曲線をプロットする関数\n",
    "def plot_decision_regions(X, y, classifier, resolution=0.02):\n",
    "    from matplotlib.colors import ListedColormap\n",
    "    markers = (\"s\", \"x\", \"o\", \"^\", \"v\")\n",
    "    colors = (\"red\", \"blue\", \"lightgreen\", \"gray\", \"cyan\")\n",
    "    cmap = ListedColormap(colors[:len(np.unique(y))])\n",
    "    \n",
    "    x1_min, x1_max = X[:, 0].min()-1 , X[:, 0].max() +1\n",
    "    x2_min, x2_max = X[:, 1].min()-1 , X[:, 1].max() +1\n",
    "    \n",
    "    xx1, xx2 = np.meshgrid(np.arange(x1_min, x1_max, resolution), np.arange(x2_min, x2_max, resolution))\n",
    "    Z = classifier.predict(np.array([xx1.ravel(), xx2.ravel()]).T)\n",
    "    Z = Z.reshape(xx1.shape)\n",
    "    plt.contourf(xx1, xx2, Z, alpha=0.4, cmap=cmap)\n",
    "    \n",
    "    plt.xlim(xx1.min(), xx1.max())\n",
    "    plt.ylim(xx2.min(), xx2.max())\n",
    "    \n",
    "    for idx, cl in enumerate(np.unique(y)):\n",
    "        plt.scatter(x=X[y == cl, 0], y=X[y == cl, 1], alpha=0.8, c=cmap(idx),marker=markers[idx], label=cl)"
   ]
  },
  {
   "cell_type": "markdown",
   "metadata": {
    "deletable": true,
    "editable": true
   },
   "source": [
    "##### 線形SVCの適応"
   ]
  },
  {
   "cell_type": "code",
   "execution_count": 79,
   "metadata": {
    "collapsed": false,
    "deletable": true,
    "editable": true
   },
   "outputs": [
    {
     "data": {
      "text/plain": [
       "SVC(C=1.0, cache_size=200, class_weight=None, coef0=0.0,\n",
       "  decision_function_shape=None, degree=3, gamma='auto', kernel='linear',\n",
       "  max_iter=-1, probability=False, random_state=None, shrinking=True,\n",
       "  tol=0.001, verbose=False)"
      ]
     },
     "execution_count": 79,
     "metadata": {},
     "output_type": "execute_result"
    }
   ],
   "source": [
    "from sklearn.svm import SVC\n",
    "\n",
    "svm = SVC(kernel='linear', C=1.0)\n",
    "svm.fit(X_train_std, y_train)"
   ]
  },
  {
   "cell_type": "code",
   "execution_count": 80,
   "metadata": {
    "collapsed": false,
    "deletable": true,
    "editable": true
   },
   "outputs": [
    {
     "data": {
      "image/png": "[encoded data removed]",
      "text/plain": [
       "<matplotlib.figure.Figure at 0x110527c18>"
      ]
     },
     "metadata": {},
     "output_type": "display_data"
    }
   ],
   "source": [
    "%matplotlib inline\n",
    "import matplotlib.pyplot as plt\n",
    "    \n",
    "X_combined_std = np.vstack((X_train_std, X_test_std))\n",
    "y_combined = np.hstack((y_train, y_test))\n",
    "plt.figure(figsize=(12, 9))\n",
    "plot_decision_regions(X=X_combined_std, y=y_combined, classifier=svm)\n",
    "plt.xlabel(\"petal length [standardizd]\")\n",
    "plt.ylabel(\"petal width [standardizd]\")\n",
    "\n",
    "plt.legend(loc = \"upper left\")\n",
    "plt.show()"
   ]
  },
  {
   "cell_type": "markdown",
   "metadata": {
    "deletable": true,
    "editable": true
   },
   "source": [
    "### 非線形問題へカーネルSVMを適用する\n",
    "SVMのメリットとして、非線形分類の問題を解くために「カーネル化」するのが容易であることがあげられます。\n",
    "\n",
    "まずは、非線形分類問題とはどういうものなのかを、データセットを作りながら確認していきます。\n",
    "\n",
    "numpyのlogical_xor関数を使ってXORのデータを作成します。"
   ]
  },
  {
   "cell_type": "code",
   "execution_count": 86,
   "metadata": {
    "collapsed": false,
    "deletable": true,
    "editable": true
   },
   "outputs": [
    {
     "data": {
      "image/png": "[encoded data removed]",
      "text/plain": [
       "<matplotlib.figure.Figure at 0x110336ba8>"
      ]
     },
     "metadata": {},
     "output_type": "display_data"
    }
   ],
   "source": [
    "np.random.seed(0)\n",
    "X_xor = np.random.randn(200, 2)\n",
    "y_xor = np.logical_xor(X_xor[:, 0] > 0, X_xor[:, 1] > 0)\n",
    "y_xor = np.where(y_xor, 1, -1)\n",
    "\n",
    "plt.scatter(X_xor[y_xor == 1, 0], X_xor[y_xor == 1, 1], c='b', marker='x', label='1')\n",
    "plt.scatter(X_xor[y_xor == -1, 0], X_xor[y_xor == -1, 1], c='r', marker='s', label='-1')\n",
    "\n",
    "plt.xlim([-3, 3])\n",
    "plt.ylim([-3, 3])\n",
    "plt.legend(loc='best')\n",
    "plt.tight_layout()\n",
    "plt.show()"
   ]
  },
  {
   "cell_type": "markdown",
   "metadata": {
    "deletable": true,
    "editable": true
   },
   "source": [
    "いままでのロジスティック回帰や線形SVMなどのモデルでは、このデータセットを上手に分類することは難しいです。\n",
    "\n",
    "そうした線形分離不可能なデータを処理するのが、カーネル法の発想です。\n",
    "カーネル法とは、射影関数$\\Phi(・)$を用いて、それらの組み合わせを高次元空間に射影し、線形分離できるようにすることです。\n",
    "\n",
    "\n",
    "以下の図を見るとイメージしやすいでしょう。\n",
    "グラフに示されている２つのクラスを線形超平面を使って分割できるようになります。それを元の特徴空間に射影すると、非線形の決定境界になります。\n",
    "![](https://s3.amazonaws.com/ai-standard/pic7-3.png)"
   ]
  },
  {
   "cell_type": "markdown",
   "metadata": {
    "deletable": true,
    "editable": true
   },
   "source": [
    "このような射影手法には新しい特徴量を生成する計算コストが非常に高いという問題点がある。ここで役に立つのが「カーネルトリック」です。\n",
    "\n",
    "カーネルとは、ざっくり言うと２つのサンプル間の__類似度__を表すものです。\n",
    "\n",
    "一番計算コストが高いのは、ベクトルのドット積($x^{(i)T}x^{(j)}$)です。SVMの中に含まれるこの計算を普通にすると計算量が高く付くため、ベクトルのドット積をカーネル関数で置き換えます。\n",
    "\n",
    "すると、式からベクトルの要素がなくなります。つまり、特徴量からなにかの値を返すカーネル関数を決めると、SVMはそこから最適化問題を解き、データを２つに分類するモデルを導出することができます。\n",
    "\n",
    "これを__カーネルトリック__と呼びます。\n",
    "\n",
    "最も広く使われているカーネルの一つは、動径基底関数カーネル（rbfカーネル・ガウスカーネル）と呼ばれるものです。\n",
    "\n",
    "$$k(x^{(i)} ,x^{(j)}) = \\exp \\Bigl ( - \\gamma \\ ||x^{(i)} - x^{(j)}||\\Bigr )$$\n",
    "\n",
    "ただし、$\\gamma = \\frac{1}{2\\sigma^2}$となります。ここでの$\\gamma$は最適化されるハイパーパラメータです。\n",
    "\n",
    "$\\gamma$__の値を小さくすると、トレーニングデータによりフィットするように計算される。__\n",
    "\n",
    "ではここから、XORデータを使って、RBFカーネルの凄さを見ていきましょう。\n",
    "\n",
    "まずは比較対象として、線形SVMを使って、学習させてみます。"
   ]
  },
  {
   "cell_type": "markdown",
   "metadata": {
    "deletable": true,
    "editable": true
   },
   "source": [
    "##### XORデータ｜線形SVM"
   ]
  },
  {
   "cell_type": "code",
   "execution_count": 92,
   "metadata": {
    "collapsed": false,
    "deletable": true,
    "editable": true
   },
   "outputs": [
    {
     "data": {
      "image/png": "[encoded data removed]",
      "text/plain": [
       "<matplotlib.figure.Figure at 0x1103884e0>"
      ]
     },
     "metadata": {},
     "output_type": "display_data"
    }
   ],
   "source": [
    "linear_svm = SVC(kernel='linear', random_state=0, gamma=0.10, C=10.0)\n",
    "linear_svm.fit(X_xor, y_xor)\n",
    "plot_decision_regions(X_xor, y_xor, classifier=linear_svm)\n",
    "\n",
    "plt.legend(loc='upper left')\n",
    "plt.show()"
   ]
  },
  {
   "cell_type": "markdown",
   "metadata": {
    "deletable": true,
    "editable": true
   },
   "source": [
    "##### XORデータ｜カーネルSVM"
   ]
  },
  {
   "cell_type": "code",
   "execution_count": 90,
   "metadata": {
    "collapsed": false,
    "deletable": true,
    "editable": true
   },
   "outputs": [
    {
     "data": {
      "image/png": "[encoded data removed]",
      "text/plain": [
       "<matplotlib.figure.Figure at 0x1102f4550>"
      ]
     },
     "metadata": {},
     "output_type": "display_data"
    }
   ],
   "source": [
    "rbf_svm = SVC(kernel='rbf', random_state=0, gamma=0.10, C=10.0)\n",
    "rbf_svm.fit(X_xor, y_xor)\n",
    "plot_decision_regions(X_xor, y_xor, classifier=rbf_svm)\n",
    "\n",
    "plt.legend(loc='upper left')\n",
    "plt.show()"
   ]
  },
  {
   "cell_type": "markdown",
   "metadata": {
    "deletable": true,
    "editable": true
   },
   "source": [
    "このように、RBFカーネルを使用すると、綺麗にXORデータが分類できることが分かりました。\n",
    "\n",
    "ここで気をつけておきたいのは、$\\gamma$のチューニングによってトレーニングデータにうまくフィットさせすぎないことが大切です。\n",
    "過学習を抑制し、$\\gamma$を最適な数値に設定できるように工夫が必要です。\n",
    "\n",
    "次回からは、汎化能力をあげるために必要な、評価指標や決定曲線などの概念を勉強していきます。"
   ]
  }
 ],
 "metadata": {
  "kernelspec": {
   "display_name": "Python 3",
   "language": "python",
   "name": "python3"
  },
  "language_info": {
   "codemirror_mode": {
    "name": "ipython",
    "version": 3
   },
   "file_extension": ".py",
   "mimetype": "text/x-python",
   "name": "python",
   "nbconvert_exporter": "python",
   "pygments_lexer": "ipython3",
   "version": "3.5.3"
  }
 },
 "nbformat": 4,
 "nbformat_minor": 2
}
