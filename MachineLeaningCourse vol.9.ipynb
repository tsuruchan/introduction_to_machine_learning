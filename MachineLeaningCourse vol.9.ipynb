{
 "cells": [
  {
   "cell_type": "markdown",
   "metadata": {
    "deletable": true,
    "editable": true
   },
   "source": [
    "MachineLeaningCourse vol.9\n",
    "# 評価指標・学習曲線"
   ]
  },
  {
   "cell_type": "markdown",
   "metadata": {
    "collapsed": true,
    "deletable": true,
    "editable": true
   },
   "source": [
    "### K分割交差検定\n",
    "対象のデータをK個に分割し、そのうちの一個をテストデータ、残りのK-1個をトレーニングデータとして学習する方法です。\n",
    "\n",
    "テストデータを変更しながらK回の学習と検証を繰り返します。\n",
    "![](https://s3.amazonaws.com/ai-standard/pic9-1.png)"
   ]
  },
  {
   "cell_type": "markdown",
   "metadata": {
    "deletable": true,
    "editable": true
   },
   "source": [
    "### 性能評価指標"
   ]
  },
  {
   "cell_type": "markdown",
   "metadata": {
    "deletable": true,
    "editable": true
   },
   "source": [
    "分類器の評価をするための指標について勉強していきます。\n",
    "\n",
    "説明のために、positiveとnegativeのいづれかを返す二値分類器を考えます。この場合、positiveとnegativeそれぞれについてTure(正解)とFalse(不正解)があるので、以下の様に４つの組み合わせがあります。\n",
    "\n",
    "![](https://s3.amazonaws.com/ai-standard/pic9-2.png)\n",
    "\n",
    "この表は、__混同行列__と呼ばれるもので、分類器の評価でよく使われます。\n",
    "\n",
    "そして、指標性能としてよく使われるのが以下です。\n",
    "\n",
    "#### 正答率\n",
    "正解率（Accuracy）は、全体の事象の中で正解がどれだけあったかの比率です。\n",
    "\n",
    "$$Accuracy = \\frac{TP + TN}{TP + FP + FN + TN}$$\n",
    "\n",
    "#### 適合率\n",
    "適合率（Precision）は、分類器がpositiveと予想した中で、真にpositiveなものの比率です。\n",
    "\n",
    "$$Precision = \\frac{TP}{TP + FP}$$\n",
    "\n",
    "#### 再現率\n",
    "再現率（Recall）は、真にpositiveな物に対して、分類器がどれだけpositiveと予測できたかを表す指標です。\n",
    "\n",
    "$$Recall = \\frac{TP}{TP + FN}$$\n",
    "\n",
    "#### F値\n",
    "一般に、再現率の高いシステムは適合率が低く、その逆に、適合率が高いシステムは再現率が低い傾向にあります。\n",
    "評価指標が2つあると、どちらのシステムが優れているか比較が難しいので、再現率と適合率の調和平均を取った値をF値（F-measure）という指標で性能を表すことがあります。\n",
    "\n",
    "$$F\\ measure = \\frac{2}{\\frac{1}{Precision} + \\frac{1}{Recall}}$$\n",
    "\n",
    "$$=\\frac{2 * Precision * Recall}{Precision + Recall}$$"
   ]
  },
  {
   "cell_type": "markdown",
   "metadata": {
    "deletable": true,
    "editable": true
   },
   "source": [
    "### ROC曲線\n"
   ]
  },
  {
   "cell_type": "markdown",
   "metadata": {
    "deletable": true,
    "editable": true
   },
   "source": [
    "ROC曲線は以下のURLを参考にするとわかりやすい。\n",
    "\n",
    "http://qiita.com/kenmatsu4/items/550b38f4fa31e9af6f4f"
   ]
  },
  {
   "cell_type": "markdown",
   "metadata": {
    "deletable": true,
    "editable": true
   },
   "source": [
    "#### Irisデータのロード"
   ]
  },
  {
   "cell_type": "code",
   "execution_count": 159,
   "metadata": {
    "collapsed": false,
    "deletable": true,
    "editable": true
   },
   "outputs": [
    {
     "name": "stdout",
     "output_type": "stream",
     "text": [
      "[0 0 0 0 0 0 0 0 0 0 0 0 0 0 0 0 0 0 0 0 0 0 0 0 0 0 0 0 0 0 0 0 0 0 0 0 0\n",
      " 0 0 0 0 0 0 0 0 0 0 0 0 0 1 1 1 1 1 1 1 1 1 1 1 1 1 1 1 1 1 1 1 1 1 1 1 1\n",
      " 1 1 1 1 1 1 1 1 1 1 1 1 1 1 1 1 1 1 1 1 1 1 1 1 1 1 2 2 2 2 2 2 2 2 2 2 2\n",
      " 2 2 2 2 2 2 2 2 2 2 2 2 2 2 2 2 2 2 2 2 2 2 2 2 2 2 2 2 2 2 2 2 2 2 2 2 2\n",
      " 2 2]\n"
     ]
    }
   ],
   "source": [
    "from sklearn import datasets\n",
    "import numpy as np\n",
    "\n",
    "iris = datasets.load_iris()\n",
    "X = iris.data[:,[2,3]]\n",
    "y = iris.target\n",
    "print(y)"
   ]
  },
  {
   "cell_type": "code",
   "execution_count": 160,
   "metadata": {
    "collapsed": false,
    "deletable": true,
    "editable": true
   },
   "outputs": [],
   "source": [
    "from sklearn.cross_validation import train_test_split\n",
    "\n",
    "X_train, X_test, y_train, y_test = train_test_split(X, y, test_size=0.3, random_state=0)"
   ]
  },
  {
   "cell_type": "code",
   "execution_count": 161,
   "metadata": {
    "collapsed": true,
    "deletable": true,
    "editable": true
   },
   "outputs": [],
   "source": [
    "from sklearn.preprocessing import StandardScaler\n",
    "\n",
    "scaler = StandardScaler()\n",
    "\n",
    "# トレーニングデータの平均と標準偏差を計算\n",
    "scaler.fit(X_train)\n",
    "\n",
    "# 平均と標準偏差を用いて標準化\n",
    "X_train_std = scaler.transform(X_train)\n",
    "X_test_std =  scaler.transform(X_test)"
   ]
  },
  {
   "cell_type": "markdown",
   "metadata": {
    "deletable": true,
    "editable": true
   },
   "source": [
    "### グリッドサーチを用いて、最適なパラメータを見つける\n",
    "\n",
    "【スコア一覧】\n",
    "\n",
    "http://scikit-learn.org/stable/modules/model_evaluation.html#scoring-parameter\n"
   ]
  },
  {
   "cell_type": "markdown",
   "metadata": {
    "deletable": true,
    "editable": true
   },
   "source": [
    "#### パーセプトロン"
   ]
  },
  {
   "cell_type": "code",
   "execution_count": 162,
   "metadata": {
    "collapsed": false,
    "deletable": true,
    "editable": true
   },
   "outputs": [
    {
     "name": "stdout",
     "output_type": "stream",
     "text": [
      "{'eta0': [1e-05, 0.0001, 0.001, 0.01, 0.1, 1, 10, 100, 1000, 10000]}\n"
     ]
    },
    {
     "data": {
      "text/plain": [
       "GridSearchCV(cv=5, error_score='raise',\n",
       "       estimator=Perceptron(alpha=0.0001, class_weight=None, eta0=1.0, fit_intercept=True,\n",
       "      n_iter=40, n_jobs=1, penalty=None, random_state=0, shuffle=True,\n",
       "      verbose=0, warm_start=False),\n",
       "       fit_params={}, iid=True, n_jobs=1,\n",
       "       param_grid={'eta0': [1e-05, 0.0001, 0.001, 0.01, 0.1, 1, 10, 100, 1000, 10000]},\n",
       "       pre_dispatch='2*n_jobs', refit=True, scoring='f1_micro', verbose=0)"
      ]
     },
     "execution_count": 162,
     "metadata": {},
     "output_type": "execute_result"
    }
   ],
   "source": [
    "from sklearn.grid_search import GridSearchCV\n",
    "\n",
    "from sklearn.linear_model import Perceptron\n",
    "\n",
    "param = {'eta0': [10**i for i in range(-5, 5)]}\n",
    "print(param)\n",
    "\n",
    "ppn_clf = GridSearchCV(Perceptron(n_iter=40, random_state=0, shuffle=True), param, cv=5, scoring='f1_micro')\n",
    "ppn_clf.fit(X_train_std, y_train)"
   ]
  },
  {
   "cell_type": "code",
   "execution_count": 163,
   "metadata": {
    "collapsed": false,
    "deletable": true,
    "editable": true
   },
   "outputs": [
    {
     "name": "stdout",
     "output_type": "stream",
     "text": [
      "{'eta0': 1e-05}\n",
      "[mean: 0.74286, std: 0.11505, params: {'eta0': 1e-05}, mean: 0.74286, std: 0.11505, params: {'eta0': 0.0001}, mean: 0.74286, std: 0.11505, params: {'eta0': 0.001}, mean: 0.74286, std: 0.11505, params: {'eta0': 0.01}, mean: 0.74286, std: 0.11505, params: {'eta0': 0.1}, mean: 0.74286, std: 0.11505, params: {'eta0': 1}, mean: 0.74286, std: 0.11505, params: {'eta0': 10}, mean: 0.74286, std: 0.11505, params: {'eta0': 100}, mean: 0.74286, std: 0.11505, params: {'eta0': 1000}, mean: 0.74286, std: 0.11505, params: {'eta0': 10000}]\n"
     ]
    }
   ],
   "source": [
    "print(ppn_clf.best_params_)\n",
    "print(ppn_clf.grid_scores_)"
   ]
  },
  {
   "cell_type": "code",
   "execution_count": 225,
   "metadata": {
    "collapsed": true,
    "deletable": true,
    "editable": true
   },
   "outputs": [],
   "source": [
    "def print_param_table(clf, X_test, y_test, score):\n",
    "    from sklearn.metrics import classification_report\n",
    "    print(\"#　スコアリング: {}\\n\".format(score))\n",
    "    print(\"# ベストモデル:\\n\\n{}\\n\".format(clf.best_estimator_))\n",
    "    print(\"# ベストパラメータ:\\n\\n{}\\n\".format(clf.best_params_))\n",
    "    print(\"# トレーニングデータでCVした時の平均スコア:\\n\")\n",
    "    for params, mean_score, scores in clf.grid_scores_:\n",
    "        print(\"{:.3f} (+/- {:.5f}) for {}\".format(mean_score, scores.std() * 2, params))\n",
    "    print(\"\\n# テストデータでの識別結果:\\n\")\n",
    "    y_true, y_pred = y_test, clf.predict(X_test)\n",
    "    print(classification_report(y_true, y_pred))"
   ]
  },
  {
   "cell_type": "code",
   "execution_count": 226,
   "metadata": {
    "collapsed": false,
    "deletable": true,
    "editable": true
   },
   "outputs": [
    {
     "name": "stdout",
     "output_type": "stream",
     "text": [
      "#　スコアリング: f1\n",
      "\n",
      "# ベストモデル:\n",
      "\n",
      "Perceptron(alpha=0.0001, class_weight=None, eta0=1e-05, fit_intercept=True,\n",
      "      n_iter=40, n_jobs=1, penalty=None, random_state=0, shuffle=True,\n",
      "      verbose=0, warm_start=False)\n",
      "\n",
      "# ベストパラメータ:\n",
      "\n",
      "{'eta0': 1e-05}\n",
      "\n",
      "# トレーニングデータでCVした時の平均スコア:\n",
      "\n",
      "0.743 (+/- 0.23010) for {'eta0': 1e-05}\n",
      "0.743 (+/- 0.23010) for {'eta0': 0.0001}\n",
      "0.743 (+/- 0.23010) for {'eta0': 0.001}\n",
      "0.743 (+/- 0.23010) for {'eta0': 0.01}\n",
      "0.743 (+/- 0.23010) for {'eta0': 0.1}\n",
      "0.743 (+/- 0.23010) for {'eta0': 1}\n",
      "0.743 (+/- 0.23010) for {'eta0': 10}\n",
      "0.743 (+/- 0.23010) for {'eta0': 100}\n",
      "0.743 (+/- 0.23010) for {'eta0': 1000}\n",
      "0.743 (+/- 0.23010) for {'eta0': 10000}\n",
      "\n",
      "# テストデータでの識別結果:\n",
      "\n",
      "             precision    recall  f1-score   support\n",
      "\n",
      "          0       0.89      1.00      0.94        16\n",
      "          1       0.94      0.83      0.88        18\n",
      "          2       0.91      0.91      0.91        11\n",
      "\n",
      "avg / total       0.91      0.91      0.91        45\n",
      "\n"
     ]
    }
   ],
   "source": [
    "print_param_table(ppn_clf, X_test_std, y_test, 'f1')"
   ]
  },
  {
   "cell_type": "markdown",
   "metadata": {
    "deletable": true,
    "editable": true
   },
   "source": [
    "#### ロジスティック回帰"
   ]
  },
  {
   "cell_type": "code",
   "execution_count": 227,
   "metadata": {
    "collapsed": false,
    "deletable": true,
    "editable": true
   },
   "outputs": [
    {
     "name": "stdout",
     "output_type": "stream",
     "text": [
      "{'C': [1e-05, 0.0001, 0.001, 0.01, 0.1, 1, 10, 100, 1000, 10000]}\n"
     ]
    },
    {
     "data": {
      "text/plain": [
       "GridSearchCV(cv=5, error_score='raise',\n",
       "       estimator=LogisticRegression(C=1.0, class_weight=None, dual=False, fit_intercept=True,\n",
       "          intercept_scaling=1, max_iter=100, multi_class='ovr', n_jobs=1,\n",
       "          penalty='l2', random_state=0, solver='liblinear', tol=0.0001,\n",
       "          verbose=0, warm_start=False),\n",
       "       fit_params={}, iid=True, n_jobs=1,\n",
       "       param_grid={'C': [1e-05, 0.0001, 0.001, 0.01, 0.1, 1, 10, 100, 1000, 10000]},\n",
       "       pre_dispatch='2*n_jobs', refit=True, scoring='f1_micro', verbose=0)"
      ]
     },
     "execution_count": 227,
     "metadata": {},
     "output_type": "execute_result"
    }
   ],
   "source": [
    "from sklearn.linear_model import LogisticRegression\n",
    "\n",
    "param = {'C': [10**i for i in range(-5, 5)]}\n",
    "print(param)\n",
    "\n",
    "lr_clf = GridSearchCV(LogisticRegression(random_state=0), param, cv=5, scoring='f1_micro')\n",
    "lr_clf.fit(X_train_std, y_train)"
   ]
  },
  {
   "cell_type": "code",
   "execution_count": 228,
   "metadata": {
    "collapsed": false,
    "deletable": true,
    "editable": true
   },
   "outputs": [
    {
     "name": "stdout",
     "output_type": "stream",
     "text": [
      "#　スコアリング: f1_micro\n",
      "\n",
      "# ベストモデル:\n",
      "\n",
      "LogisticRegression(C=10, class_weight=None, dual=False, fit_intercept=True,\n",
      "          intercept_scaling=1, max_iter=100, multi_class='ovr', n_jobs=1,\n",
      "          penalty='l2', random_state=0, solver='liblinear', tol=0.0001,\n",
      "          verbose=0, warm_start=False)\n",
      "\n",
      "# ベストパラメータ:\n",
      "\n",
      "{'C': 10}\n",
      "\n",
      "# トレーニングデータでCVした時の平均スコア:\n",
      "\n",
      "0.695 (+/- 0.03108) for {'C': 1e-05}\n",
      "0.695 (+/- 0.03108) for {'C': 0.0001}\n",
      "0.695 (+/- 0.03108) for {'C': 0.001}\n",
      "0.695 (+/- 0.03108) for {'C': 0.01}\n",
      "0.695 (+/- 0.03108) for {'C': 0.1}\n",
      "0.914 (+/- 0.06463) for {'C': 1}\n",
      "0.952 (+/- 0.05776) for {'C': 10}\n",
      "0.952 (+/- 0.09974) for {'C': 100}\n",
      "0.952 (+/- 0.09974) for {'C': 1000}\n",
      "0.952 (+/- 0.09974) for {'C': 10000}\n",
      "\n",
      "# テストデータでの識別結果:\n",
      "\n",
      "             precision    recall  f1-score   support\n",
      "\n",
      "          0       1.00      1.00      1.00        16\n",
      "          1       0.94      0.94      0.94        18\n",
      "          2       0.91      0.91      0.91        11\n",
      "\n",
      "avg / total       0.96      0.96      0.96        45\n",
      "\n"
     ]
    }
   ],
   "source": [
    "print_param_table(lr_clf, X_test_std, y_test, 'f1_micro')"
   ]
  },
  {
   "cell_type": "code",
   "execution_count": 229,
   "metadata": {
    "collapsed": false,
    "deletable": true,
    "editable": true
   },
   "outputs": [
    {
     "name": "stdout",
     "output_type": "stream",
     "text": [
      "[{'C': [1, 10, 100, 1000], 'kernel': ['linear']}, {'C': [1, 10, 100, 1000], 'gamma': [0.001, 0.0001], 'kernel': ['rbf']}, {'degree': [2, 3, 4], 'C': [1, 10, 100, 1000], 'gamma': [0.001, 0.0001], 'kernel': ['poly']}, {'C': [1, 10, 100, 1000], 'gamma': [0.001, 0.0001], 'kernel': ['sigmoid']}]\n"
     ]
    }
   ],
   "source": [
    "from sklearn.svm import SVC\n",
    "\n",
    "param = [\n",
    "    {'C': [1, 10, 100, 1000], 'kernel': ['linear']},\n",
    "    {'C': [1, 10, 100, 1000], 'kernel': ['rbf'], 'gamma': [0.001, 0.0001]},\n",
    "    {'C': [1, 10, 100, 1000], 'kernel': ['poly'], 'degree': [2, 3, 4], 'gamma': [0.001, 0.0001]},\n",
    "    {'C': [1, 10, 100, 1000], 'kernel': ['sigmoid'], 'gamma': [0.001, 0.0001]}\n",
    "    ]\n",
    "print(param)"
   ]
  },
  {
   "cell_type": "code",
   "execution_count": 230,
   "metadata": {
    "collapsed": false,
    "deletable": true,
    "editable": true
   },
   "outputs": [
    {
     "data": {
      "text/plain": [
       "GridSearchCV(cv=5, error_score='raise',\n",
       "       estimator=SVC(C=1.0, cache_size=200, class_weight=None, coef0=0.0,\n",
       "  decision_function_shape=None, degree=3, gamma='auto', kernel='rbf',\n",
       "  max_iter=-1, probability=False, random_state=None, shrinking=True,\n",
       "  tol=0.001, verbose=False),\n",
       "       fit_params={}, iid=True, n_jobs=1,\n",
       "       param_grid=[{'C': [1, 10, 100, 1000], 'kernel': ['linear']}, {'C': [1, 10, 100, 1000], 'gamma': [0.001, 0.0001], 'kernel': ['rbf']}, {'degree': [2, 3, 4], 'C': [1, 10, 100, 1000], 'gamma': [0.001, 0.0001], 'kernel': ['poly']}, {'C': [1, 10, 100, 1000], 'gamma': [0.001, 0.0001], 'kernel': ['sigmoid']}],\n",
       "       pre_dispatch='2*n_jobs', refit=True, scoring='f1_micro', verbose=0)"
      ]
     },
     "execution_count": 230,
     "metadata": {},
     "output_type": "execute_result"
    }
   ],
   "source": [
    "svm_clf = GridSearchCV(SVC(), param, cv=5, scoring='f1_micro')\n",
    "svm_clf.fit(X_train_std, y_train)"
   ]
  },
  {
   "cell_type": "code",
   "execution_count": 231,
   "metadata": {
    "collapsed": false,
    "deletable": true,
    "editable": true
   },
   "outputs": [
    {
     "name": "stdout",
     "output_type": "stream",
     "text": [
      "#　スコアリング: f1_micro\n",
      "\n",
      "# ベストモデル:\n",
      "\n",
      "SVC(C=1, cache_size=200, class_weight=None, coef0=0.0,\n",
      "  decision_function_shape=None, degree=3, gamma='auto', kernel='linear',\n",
      "  max_iter=-1, probability=False, random_state=None, shrinking=True,\n",
      "  tol=0.001, verbose=False)\n",
      "\n",
      "# ベストパラメータ:\n",
      "\n",
      "{'C': 1, 'kernel': 'linear'}\n",
      "\n",
      "# トレーニングデータでCVした時の平均スコア:\n",
      "\n",
      "0.952 (+/- 0.09974) for {'C': 1, 'kernel': 'linear'}\n",
      "0.952 (+/- 0.09974) for {'C': 10, 'kernel': 'linear'}\n",
      "0.933 (+/- 0.09279) for {'C': 100, 'kernel': 'linear'}\n",
      "0.943 (+/- 0.08848) for {'C': 1000, 'kernel': 'linear'}\n",
      "0.371 (+/- 0.01579) for {'C': 1, 'gamma': 0.001, 'kernel': 'rbf'}\n",
      "0.371 (+/- 0.01579) for {'C': 1, 'gamma': 0.0001, 'kernel': 'rbf'}\n",
      "0.790 (+/- 0.04255) for {'C': 10, 'gamma': 0.001, 'kernel': 'rbf'}\n",
      "0.371 (+/- 0.01579) for {'C': 10, 'gamma': 0.0001, 'kernel': 'rbf'}\n",
      "0.952 (+/- 0.09974) for {'C': 100, 'gamma': 0.001, 'kernel': 'rbf'}\n",
      "0.790 (+/- 0.04255) for {'C': 100, 'gamma': 0.0001, 'kernel': 'rbf'}\n",
      "0.952 (+/- 0.09974) for {'C': 1000, 'gamma': 0.001, 'kernel': 'rbf'}\n",
      "0.952 (+/- 0.09974) for {'C': 1000, 'gamma': 0.0001, 'kernel': 'rbf'}\n",
      "0.371 (+/- 0.01579) for {'degree': 2, 'C': 1, 'gamma': 0.001, 'kernel': 'poly'}\n",
      "0.371 (+/- 0.01579) for {'degree': 2, 'C': 1, 'gamma': 0.0001, 'kernel': 'poly'}\n",
      "0.371 (+/- 0.01579) for {'degree': 3, 'C': 1, 'gamma': 0.001, 'kernel': 'poly'}\n",
      "0.371 (+/- 0.01579) for {'degree': 3, 'C': 1, 'gamma': 0.0001, 'kernel': 'poly'}\n",
      "0.371 (+/- 0.01579) for {'degree': 4, 'C': 1, 'gamma': 0.001, 'kernel': 'poly'}\n",
      "0.371 (+/- 0.01579) for {'degree': 4, 'C': 1, 'gamma': 0.0001, 'kernel': 'poly'}\n",
      "0.371 (+/- 0.01579) for {'degree': 2, 'C': 10, 'gamma': 0.001, 'kernel': 'poly'}\n",
      "0.371 (+/- 0.01579) for {'degree': 2, 'C': 10, 'gamma': 0.0001, 'kernel': 'poly'}\n",
      "0.371 (+/- 0.01579) for {'degree': 3, 'C': 10, 'gamma': 0.001, 'kernel': 'poly'}\n",
      "0.371 (+/- 0.01579) for {'degree': 3, 'C': 10, 'gamma': 0.0001, 'kernel': 'poly'}\n",
      "0.371 (+/- 0.01579) for {'degree': 4, 'C': 10, 'gamma': 0.001, 'kernel': 'poly'}\n",
      "0.371 (+/- 0.01579) for {'degree': 4, 'C': 10, 'gamma': 0.0001, 'kernel': 'poly'}\n",
      "0.371 (+/- 0.01579) for {'degree': 2, 'C': 100, 'gamma': 0.001, 'kernel': 'poly'}\n",
      "0.371 (+/- 0.01579) for {'degree': 2, 'C': 100, 'gamma': 0.0001, 'kernel': 'poly'}\n",
      "0.371 (+/- 0.01579) for {'degree': 3, 'C': 100, 'gamma': 0.001, 'kernel': 'poly'}\n",
      "0.371 (+/- 0.01579) for {'degree': 3, 'C': 100, 'gamma': 0.0001, 'kernel': 'poly'}\n",
      "0.371 (+/- 0.01579) for {'degree': 4, 'C': 100, 'gamma': 0.001, 'kernel': 'poly'}\n",
      "0.371 (+/- 0.01579) for {'degree': 4, 'C': 100, 'gamma': 0.0001, 'kernel': 'poly'}\n",
      "0.371 (+/- 0.01579) for {'degree': 2, 'C': 1000, 'gamma': 0.001, 'kernel': 'poly'}\n",
      "0.371 (+/- 0.01579) for {'degree': 2, 'C': 1000, 'gamma': 0.0001, 'kernel': 'poly'}\n",
      "0.371 (+/- 0.01579) for {'degree': 3, 'C': 1000, 'gamma': 0.001, 'kernel': 'poly'}\n",
      "0.371 (+/- 0.01579) for {'degree': 3, 'C': 1000, 'gamma': 0.0001, 'kernel': 'poly'}\n",
      "0.371 (+/- 0.01579) for {'degree': 4, 'C': 1000, 'gamma': 0.001, 'kernel': 'poly'}\n",
      "0.371 (+/- 0.01579) for {'degree': 4, 'C': 1000, 'gamma': 0.0001, 'kernel': 'poly'}\n",
      "0.371 (+/- 0.01579) for {'C': 1, 'gamma': 0.001, 'kernel': 'sigmoid'}\n",
      "0.371 (+/- 0.01579) for {'C': 1, 'gamma': 0.0001, 'kernel': 'sigmoid'}\n",
      "0.695 (+/- 0.03108) for {'C': 10, 'gamma': 0.001, 'kernel': 'sigmoid'}\n",
      "0.371 (+/- 0.01579) for {'C': 10, 'gamma': 0.0001, 'kernel': 'sigmoid'}\n",
      "0.952 (+/- 0.09974) for {'C': 100, 'gamma': 0.001, 'kernel': 'sigmoid'}\n",
      "0.695 (+/- 0.03108) for {'C': 100, 'gamma': 0.0001, 'kernel': 'sigmoid'}\n",
      "0.952 (+/- 0.09974) for {'C': 1000, 'gamma': 0.001, 'kernel': 'sigmoid'}\n",
      "0.952 (+/- 0.09974) for {'C': 1000, 'gamma': 0.0001, 'kernel': 'sigmoid'}\n",
      "\n",
      "# テストデータでの識別結果:\n",
      "\n",
      "             precision    recall  f1-score   support\n",
      "\n",
      "          0       1.00      1.00      1.00        16\n",
      "          1       1.00      0.94      0.97        18\n",
      "          2       0.92      1.00      0.96        11\n",
      "\n",
      "avg / total       0.98      0.98      0.98        45\n",
      "\n"
     ]
    }
   ],
   "source": [
    "print_param_table(svm_clf, X_test_std, y_test, 'f1_micro')"
   ]
  },
  {
   "cell_type": "code",
   "execution_count": 232,
   "metadata": {
    "collapsed": false,
    "deletable": true,
    "editable": true
   },
   "outputs": [
    {
     "data": {
      "text/plain": [
       "array([[34,  0,  0],\n",
       "       [ 0, 30,  2],\n",
       "       [ 0,  3, 36]])"
      ]
     },
     "execution_count": 232,
     "metadata": {},
     "output_type": "execute_result"
    }
   ],
   "source": [
    "from sklearn.metrics import confusion_matrix\n",
    "\n",
    "svm = SVC(C=1, kernel='linear')\n",
    "svm.fit(X_train_std, y_train)\n",
    "\n",
    "confusion_matrix(y_train, svm.predict(X_train_std))"
   ]
  },
  {
   "cell_type": "code",
   "execution_count": null,
   "metadata": {
    "collapsed": true,
    "deletable": true,
    "editable": true
   },
   "outputs": [],
   "source": []
  },
  {
   "cell_type": "code",
   "execution_count": null,
   "metadata": {
    "collapsed": true,
    "deletable": true,
    "editable": true
   },
   "outputs": [],
   "source": []
  },
  {
   "cell_type": "code",
   "execution_count": null,
   "metadata": {
    "collapsed": true,
    "deletable": true,
    "editable": true
   },
   "outputs": [],
   "source": []
  }
 ],
 "metadata": {
  "kernelspec": {
   "display_name": "Python 3",
   "language": "python",
   "name": "python3"
  },
  "language_info": {
   "codemirror_mode": {
    "name": "ipython",
    "version": 3
   },
   "file_extension": ".py",
   "mimetype": "text/x-python",
   "name": "python",
   "nbconvert_exporter": "python",
   "pygments_lexer": "ipython3",
   "version": "3.5.3"
  }
 },
 "nbformat": 4,
 "nbformat_minor": 2
}
